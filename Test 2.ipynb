{
 "cells": [
  {
   "cell_type": "code",
   "execution_count": 13,
   "id": "d5d17523",
   "metadata": {},
   "outputs": [
    {
     "name": "stdout",
     "output_type": "stream",
     "text": [
      "please enter the textnon man arif\n",
      "['non', 'man', 'arif']\n",
      "pallindrome\n",
      "nott pallindrome\n",
      "nott pallindrome\n"
     ]
    }
   ],
   "source": [
    "#Wap to check if a number enter by user is pallindrome or not\n",
    "\n",
    "n=input('please enter the text').split()\n",
    "print(n)\n",
    "for i in n:\n",
    "    if i==i[::-1]:\n",
    "        print('pallindrome')\n",
    "    else:\n",
    "        print('nott pallindrome')"
   ]
  },
  {
   "cell_type": "code",
   "execution_count": 95,
   "id": "787b7ed0",
   "metadata": {},
   "outputs": [
    {
     "ename": "TypeError",
     "evalue": "unsupported operand type(s) for ** or pow(): 'tuple' and 'int'",
     "output_type": "error",
     "traceback": [
      "\u001b[1;31m---------------------------------------------------------------------------\u001b[0m",
      "\u001b[1;31mTypeError\u001b[0m                                 Traceback (most recent call last)",
      "\u001b[1;32m~\\AppData\\Local\\Temp/ipykernel_11964/4104062404.py\u001b[0m in \u001b[0;36m<module>\u001b[1;34m\u001b[0m\n\u001b[0;32m      8\u001b[0m         \u001b[0mprint\u001b[0m\u001b[1;33m(\u001b[0m\u001b[0marea\u001b[0m\u001b[1;33m)\u001b[0m\u001b[1;33m\u001b[0m\u001b[1;33m\u001b[0m\u001b[0m\n\u001b[0;32m      9\u001b[0m \u001b[1;33m\u001b[0m\u001b[0m\n\u001b[1;32m---> 10\u001b[1;33m \u001b[0marea\u001b[0m\u001b[1;33m(\u001b[0m\u001b[1;36m6\u001b[0m\u001b[1;33m)\u001b[0m\u001b[1;33m\u001b[0m\u001b[1;33m\u001b[0m\u001b[0m\n\u001b[0m\u001b[0;32m     11\u001b[0m \u001b[1;33m\u001b[0m\u001b[0m\n\u001b[0;32m     12\u001b[0m '''sqaure=b**2\n",
      "\u001b[1;32m~\\AppData\\Local\\Temp/ipykernel_11964/4104062404.py\u001b[0m in \u001b[0;36marea\u001b[1;34m(*b)\u001b[0m\n\u001b[0;32m      5\u001b[0m \u001b[1;32mdef\u001b[0m \u001b[0marea\u001b[0m\u001b[1;33m(\u001b[0m\u001b[1;33m*\u001b[0m\u001b[0mb\u001b[0m\u001b[1;33m)\u001b[0m\u001b[1;33m:\u001b[0m\u001b[1;33m\u001b[0m\u001b[1;33m\u001b[0m\u001b[0m\n\u001b[0;32m      6\u001b[0m     \u001b[1;32mfor\u001b[0m \u001b[0mi\u001b[0m \u001b[1;32min\u001b[0m \u001b[0mb\u001b[0m\u001b[1;33m:\u001b[0m\u001b[1;33m\u001b[0m\u001b[1;33m\u001b[0m\u001b[0m\n\u001b[1;32m----> 7\u001b[1;33m         \u001b[0marea\u001b[0m\u001b[1;33m=\u001b[0m\u001b[1;36m3.14\u001b[0m\u001b[1;33m*\u001b[0m\u001b[0mb\u001b[0m\u001b[1;33m**\u001b[0m\u001b[1;36m2\u001b[0m\u001b[1;33m\u001b[0m\u001b[1;33m\u001b[0m\u001b[0m\n\u001b[0m\u001b[0;32m      8\u001b[0m         \u001b[0mprint\u001b[0m\u001b[1;33m(\u001b[0m\u001b[0marea\u001b[0m\u001b[1;33m)\u001b[0m\u001b[1;33m\u001b[0m\u001b[1;33m\u001b[0m\u001b[0m\n\u001b[0;32m      9\u001b[0m \u001b[1;33m\u001b[0m\u001b[0m\n",
      "\u001b[1;31mTypeError\u001b[0m: unsupported operand type(s) for ** or pow(): 'tuple' and 'int'"
     ]
    }
   ],
   "source": [
    "'''Q2. W a arbitrary function  area and find the area of circle , square and rectangle . and print the area when\n",
    "the function is called.\n",
    "'''\n",
    "\n",
    "def area(*b):\n",
    "    for i in b:\n",
    "        area=3.14*b**2\n",
    "        print(area)\n",
    "    \n",
    "area(6)\n",
    "\n",
    "'''sqaure=b**2\n",
    "    print(sqaure)\n",
    "    rectangle=b*b\n",
    "    print(rectangle)\n",
    "'''"
   ]
  },
  {
   "cell_type": "code",
   "execution_count": null,
   "id": "d043185f",
   "metadata": {},
   "outputs": [],
   "source": []
  },
  {
   "cell_type": "code",
   "execution_count": 55,
   "id": "498a776f",
   "metadata": {},
   "outputs": [
    {
     "name": "stdout",
     "output_type": "stream",
     "text": [
      "entr namearif\n",
      "fira\n"
     ]
    }
   ],
   "source": [
    "#Q3.Write a function which prints the reverse of a given string using while loop. \n",
    "\n",
    "def reverse():\n",
    "    n=input('entr name')\n",
    "    i=1\n",
    "    while i<len(n):\n",
    "        r=n[::-1]\n",
    "        i=i+len(n)\n",
    "        print(r)\n",
    "\n",
    "reverse()\n",
    "\n",
    "\n",
    "''' #Method 2\n",
    "def reverse():\n",
    "    s=input(\"Enter a string\")\n",
    "    i=-1\n",
    "    while i<(len(s)-1):\n",
    "        print(s[i],end=\" \")\n",
    "        i-=1\n",
    "    print(\"\\n\")\n",
    "\n",
    "reverse()\n",
    "'''"
   ]
  },
  {
   "cell_type": "code",
   "execution_count": null,
   "id": "3f066a1f",
   "metadata": {},
   "outputs": [],
   "source": []
  },
  {
   "cell_type": "code",
   "execution_count": 65,
   "id": "82dd8b26",
   "metadata": {},
   "outputs": [
    {
     "data": {
      "text/plain": [
       "'#@$!%'"
      ]
     },
     "execution_count": 65,
     "metadata": {},
     "output_type": "execute_result"
    }
   ],
   "source": [
    "#WAP to print “DSFASF#@$!%324566732cadnkw” only the special chars from the given string.\n",
    "\n",
    "a='DSFASF#@$!%324566732cadnkw'\n",
    "a[6:-15]\n"
   ]
  },
  {
   "cell_type": "code",
   "execution_count": 76,
   "id": "b601b33a",
   "metadata": {},
   "outputs": [
    {
     "name": "stdout",
     "output_type": "stream",
     "text": [
      "#\n",
      "@\n",
      "$\n",
      "!\n",
      "%\n"
     ]
    }
   ],
   "source": [
    "\n",
    "#Method 2\n",
    "a='DSFASF#@$!%324566732cadnkw'\n",
    "\n",
    "for i in a:\n",
    "    if i in ('#@$!%'):\n",
    "        print(i)"
   ]
  },
  {
   "cell_type": "code",
   "execution_count": null,
   "id": "48e5832b",
   "metadata": {},
   "outputs": [],
   "source": [
    "'''Q5. WAP to input multiple names , then check if the name starts with letter “a” or “A”  or not .\n",
    "If yes , print the name is lucky name , else print its ok…\n",
    "Also tell if we could change his first letter or not. \n",
    "'''\n",
    "name=input(\"Enter a string\").split()\n",
    "#print(name)\n",
    "for i in name:\n",
    "    if i[0]=='a' or i[0]=='A':\n",
    "        print(i,'lucky you are')\n",
    "        \n",
    "\n",
    "    else:\n",
    "        print(i,'its ok')\n",
    "        ask()\n",
    "        def ask():\n",
    "            n=input('could we change first letter or not.') \n",
    "        \n",
    "\n",
    "      \n"
   ]
  },
  {
   "cell_type": "code",
   "execution_count": null,
   "id": "bd776756",
   "metadata": {},
   "outputs": [],
   "source": []
  },
  {
   "cell_type": "code",
   "execution_count": null,
   "id": "4fc61665",
   "metadata": {},
   "outputs": [],
   "source": []
  }
 ],
 "metadata": {
  "kernelspec": {
   "display_name": "Python 3 (ipykernel)",
   "language": "python",
   "name": "python3"
  },
  "language_info": {
   "codemirror_mode": {
    "name": "ipython",
    "version": 3
   },
   "file_extension": ".py",
   "mimetype": "text/x-python",
   "name": "python",
   "nbconvert_exporter": "python",
   "pygments_lexer": "ipython3",
   "version": "3.9.7"
  }
 },
 "nbformat": 4,
 "nbformat_minor": 5
}
