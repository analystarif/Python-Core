{
 "cells": [
  {
   "cell_type": "code",
   "execution_count": null,
   "id": "bc4fbfc7",
   "metadata": {},
   "outputs": [],
   "source": [
    "# nested loop "
   ]
  },
  {
   "cell_type": "code",
   "execution_count": 3,
   "id": "13a74bfe",
   "metadata": {},
   "outputs": [
    {
     "name": "stdout",
     "output_type": "stream",
     "text": [
      "1\n",
      "a\n",
      "c\n",
      "d\n",
      "e\n",
      "b\n",
      "c\n",
      "d\n",
      "e\n",
      "2\n",
      "a\n",
      "c\n",
      "d\n",
      "e\n",
      "b\n",
      "c\n",
      "d\n",
      "e\n"
     ]
    }
   ],
   "source": [
    "for i in range(1,3):\n",
    "    print(i)\n",
    "    for j in [\"a\",\"b\"]:\n",
    "        print(j)\n",
    "        for k in [\"c\",'d','e']:\n",
    "            print(k)"
   ]
  },
  {
   "cell_type": "code",
   "execution_count": 10,
   "id": "afc60a06",
   "metadata": {},
   "outputs": [
    {
     "name": "stdout",
     "output_type": "stream",
     "text": [
      "1\n",
      "10\n",
      "aman\n",
      "neha\n",
      "ram\n",
      "11\n",
      "aman\n",
      "neha\n",
      "ram\n",
      "2\n",
      "10\n",
      "aman\n",
      "neha\n",
      "ram\n",
      "11\n",
      "aman\n",
      "neha\n",
      "ram\n",
      "3\n",
      "10\n",
      "aman\n",
      "neha\n",
      "ram\n",
      "11\n",
      "aman\n",
      "neha\n",
      "ram\n",
      "4\n",
      "10\n",
      "aman\n",
      "neha\n",
      "ram\n",
      "11\n",
      "aman\n",
      "neha\n",
      "ram\n"
     ]
    }
   ],
   "source": [
    "for i in range(1,5):\n",
    "    print(i)\n",
    "    for j in range (10,12):\n",
    "        print(j)\n",
    "        for k in [\"aman\",\"neha\",\"ram\"]:\n",
    "            print(k)"
   ]
  },
  {
   "cell_type": "markdown",
   "id": "f2a26d3d",
   "metadata": {},
   "source": [
    "wap to print table in reverse order 3 to 6:"
   ]
  },
  {
   "cell_type": "markdown",
   "id": "7ee1f7ae",
   "metadata": {},
   "source": []
  },
  {
   "cell_type": "code",
   "execution_count": null,
   "id": "f8ae0907",
   "metadata": {},
   "outputs": [],
   "source": []
  },
  {
   "cell_type": "code",
   "execution_count": null,
   "id": "b01dbc1d",
   "metadata": {},
   "outputs": [],
   "source": []
  },
  {
   "cell_type": "code",
   "execution_count": null,
   "id": "2d7faa55",
   "metadata": {},
   "outputs": [],
   "source": []
  },
  {
   "cell_type": "code",
   "execution_count": 24,
   "id": "7a495e75",
   "metadata": {},
   "outputs": [
    {
     "name": "stdout",
     "output_type": "stream",
     "text": [
      "table of  3\n",
      "3 * 10 = 30\n",
      "3 * 9 = 27\n",
      "3 * 8 = 24\n",
      "3 * 7 = 21\n",
      "3 * 6 = 18\n",
      "3 * 5 = 15\n",
      "3 * 4 = 12\n",
      "3 * 3 = 9\n",
      "3 * 2 = 6\n",
      "3 * 1 = 3\n",
      "*******\n",
      "table of  4\n",
      "4 * 10 = 40\n",
      "4 * 9 = 36\n",
      "4 * 8 = 32\n",
      "4 * 7 = 28\n",
      "4 * 6 = 24\n",
      "4 * 5 = 20\n",
      "4 * 4 = 16\n",
      "4 * 3 = 12\n",
      "4 * 2 = 8\n",
      "4 * 1 = 4\n",
      "*******\n",
      "table of  5\n",
      "5 * 10 = 50\n",
      "5 * 9 = 45\n",
      "5 * 8 = 40\n",
      "5 * 7 = 35\n",
      "5 * 6 = 30\n",
      "5 * 5 = 25\n",
      "5 * 4 = 20\n",
      "5 * 3 = 15\n",
      "5 * 2 = 10\n",
      "5 * 1 = 5\n",
      "*******\n"
     ]
    }
   ],
   "source": [
    "for i in range(3,6):\n",
    "    print(\"table of \",i)\n",
    "    for j in range(10,0,-1):\n",
    "        t=i*j\n",
    "        \n",
    "        print(i,\"*\",j,\"=\",t)\n",
    "    print(\"*******\")    "
   ]
  },
  {
   "cell_type": "code",
   "execution_count": 6,
   "id": "78475463",
   "metadata": {},
   "outputs": [
    {
     "name": "stdout",
     "output_type": "stream",
     "text": [
      "composite 20\n",
      "composite 21\n",
      "composite 22\n",
      "prime 23\n",
      "composite 24\n",
      "composite 25\n",
      "composite 26\n",
      "composite 27\n",
      "composite 28\n",
      "prime 29\n",
      "composite 30\n",
      "total num of primes in 20-30 are: 9\n",
      "total num of composite 20-30 2\n"
     ]
    }
   ],
   "source": [
    "# wap to 20 to 30 how many num are prime and composite num in range of 20 - 30\n",
    "d,e=0,0\n",
    "for i in range(20,31):\n",
    "    c=0\n",
    "    for j in range(1,i+1):\n",
    "        if i%j==0:\n",
    "            c=c+1\n",
    "    if c>2:\n",
    "        d=d+1\n",
    "        print(\"composite\",i)\n",
    "        \n",
    "    else:\n",
    "        e=e+1\n",
    "        print(\"prime\",i)\n",
    "print(\"total num of primes in 20-30 are:\",d)\n",
    "print(\"total num of composite 20-30\", e)"
   ]
  },
  {
   "cell_type": "code",
   "execution_count": 1,
   "id": "91098236",
   "metadata": {},
   "outputs": [
    {
     "name": "stdout",
     "output_type": "stream",
     "text": [
      "0\n",
      "1\n",
      "2\n",
      "3\n",
      "4\n"
     ]
    }
   ],
   "source": []
  },
  {
   "cell_type": "code",
   "execution_count": null,
   "id": "a670390f",
   "metadata": {},
   "outputs": [],
   "source": []
  }
 ],
 "metadata": {
  "kernelspec": {
   "display_name": "Python 3 (ipykernel)",
   "language": "python",
   "name": "python3"
  },
  "language_info": {
   "codemirror_mode": {
    "name": "ipython",
    "version": 3
   },
   "file_extension": ".py",
   "mimetype": "text/x-python",
   "name": "python",
   "nbconvert_exporter": "python",
   "pygments_lexer": "ipython3",
   "version": "3.9.7"
  }
 },
 "nbformat": 4,
 "nbformat_minor": 5
}
