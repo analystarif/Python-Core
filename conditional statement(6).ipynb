{
 "cells": [
  {
   "cell_type": "code",
   "execution_count": null,
   "id": "328c7f81",
   "metadata": {},
   "outputs": [],
   "source": [
    "take two input from the regarding the amount deposited in accoint then i need update ,my netbalanceb"
   ]
  },
  {
   "cell_type": "code",
   "execution_count": 5,
   "id": "e8f800d0",
   "metadata": {},
   "outputs": [
    {
     "name": "stdout",
     "output_type": "stream",
     "text": [
      "enter deposit your amount100\n",
      "enter your withdraw  amount200\n"
     ]
    },
    {
     "data": {
      "text/plain": [
       "10100.0"
      ]
     },
     "execution_count": 5,
     "metadata": {},
     "output_type": "execute_result"
    }
   ],
   "source": [
    "cash=10000\n",
    "deam=float(input(\"enter deposit your amount\"))\n",
    "wam=float(input(\"enter your withdraw  amount\"))\n",
    "fam=cash-wam\n",
    "addaccount=cash+deam\n",
    "fam\n",
    "addaccount"
   ]
  },
  {
   "cell_type": "code",
   "execution_count": 3,
   "id": "c1d5f2d8",
   "metadata": {},
   "outputs": [
    {
     "ename": "NameError",
     "evalue": "name 'addaccount' is not defined",
     "output_type": "error",
     "traceback": [
      "\u001b[1;31m---------------------------------------------------------------------------\u001b[0m",
      "\u001b[1;31mNameError\u001b[0m                                 Traceback (most recent call last)",
      "\u001b[1;32m~\\AppData\\Local\\Temp/ipykernel_8976/779168881.py\u001b[0m in \u001b[0;36m<module>\u001b[1;34m\u001b[0m\n\u001b[1;32m----> 1\u001b[1;33m \u001b[0maddaccount\u001b[0m\u001b[1;33m\u001b[0m\u001b[1;33m\u001b[0m\u001b[0m\n\u001b[0m",
      "\u001b[1;31mNameError\u001b[0m: name 'addaccount' is not defined"
     ]
    }
   ],
   "source": []
  },
  {
   "cell_type": "code",
   "execution_count": null,
   "id": "adb43a07",
   "metadata": {},
   "outputs": [],
   "source": [
    "condition:"
   ]
  },
  {
   "cell_type": "code",
   "execution_count": 7,
   "id": "fc5a8016",
   "metadata": {},
   "outputs": [
    {
     "name": "stdout",
     "output_type": "stream",
     "text": [
      "1st: 8\n",
      "2nd: 8\n",
      "a and b are equal\n"
     ]
    }
   ],
   "source": [
    "a=int(input(\"1st: \"))\n",
    "b=int(input(\"2nd: \"))\n",
    "if a>b:\n",
    "    print(\"a is largest\")\n",
    "elif a<b:\n",
    "    print(\"b is largest\")\n",
    "else:\n",
    "    print(\"a and b are equal\")\n",
    "    "
   ]
  },
  {
   "cell_type": "markdown",
   "id": "14874386",
   "metadata": {},
   "source": [
    "wap to take input from the user regarding the whether outside \n",
    "if it is rainy i will not play outside \n",
    "if it is sunny i will choose play, \n",
    "if it is cold , i can play \n",
    "and if it is stormy i will back"
   ]
  },
  {
   "cell_type": "code",
   "execution_count": null,
   "id": "76aa40c5",
   "metadata": {},
   "outputs": [],
   "source": [
    "w=input(\"enter the whether\")\n",
    "if w==\"rainy\":\n",
    "    print(\"i will not play\")\n",
    "elif w==\"sunny\":\n",
    "    print(\"i will play\")\n",
    "elif w==\"cold\":\n",
    "    print(\"i can play\")\n",
    "elif w==\"stormy\":\n",
    "    print(\"i will back\")\n",
    "\n",
    "    \n"
   ]
  },
  {
   "cell_type": "code",
   "execution_count": null,
   "id": "cf19d966",
   "metadata": {},
   "outputs": [],
   "source": []
  },
  {
   "cell_type": "code",
   "execution_count": null,
   "id": "4a88d16a",
   "metadata": {},
   "outputs": [],
   "source": [
    "write a program to take input from the user and check if the number is div by 3 , by 5, or by 3 and 5 both\n"
   ]
  },
  {
   "cell_type": "code",
   "execution_count": 3,
   "id": "f31800a1",
   "metadata": {},
   "outputs": [
    {
     "name": "stdout",
     "output_type": "stream",
     "text": [
      "enter a num45\n",
      "n is divisble by both 3 & 5\n"
     ]
    }
   ],
   "source": [
    "n=int(input(\"enter a num\"))\n",
    "if(n%3==0 and n%5==0):\n",
    "    print(\"n is divisble by both 3 & 5\")\n",
    "elif(n%3==0):\n",
    "    print(\"n is divisble by 3\")\n",
    "elif(n%5==0):\n",
    "    print(\"n is divisble by 5 \")\n",
    "\n",
    "    \n",
    "        "
   ]
  },
  {
   "cell_type": "code",
   "execution_count": null,
   "id": "f6870276",
   "metadata": {},
   "outputs": [],
   "source": [
    "q. wap to take a number n and find even or odd"
   ]
  },
  {
   "cell_type": "code",
   "execution_count": 8,
   "id": "b942d2fa",
   "metadata": {},
   "outputs": [
    {
     "name": "stdout",
     "output_type": "stream",
     "text": [
      "enter a num5\n",
      "5  is odd\n"
     ]
    }
   ],
   "source": [
    "n=int(input(\"enter a num\"))\n",
    "if(n%2==0):\n",
    "    print(n, \" is even\")\n",
    "else:\n",
    "    print(n, \" is odd\")\n",
    "\n",
    "    "
   ]
  },
  {
   "cell_type": "code",
   "execution_count": 10,
   "id": "9f6d6266",
   "metadata": {},
   "outputs": [
    {
     "name": "stdout",
     "output_type": "stream",
     "text": [
      "num dalo2\n",
      "2 is even\n"
     ]
    }
   ],
   "source": [
    "n=int(input(\"num dalo\"))\n",
    "if(n%2==0):\n",
    "    print(n ,\"is even\")\n",
    "else:\n",
    "        print(n, \"odd\")"
   ]
  },
  {
   "cell_type": "code",
   "execution_count": null,
   "id": "e44eebe4",
   "metadata": {},
   "outputs": [],
   "source": [
    "Wap to take input from the user regarding the meal he had yesterday, \n",
    "if it south indian, print rombanala,\n",
    "if it is  punjabi, print vadiya haigi\n",
    "if it is odiya, print bhala_heichi"
   ]
  },
  {
   "cell_type": "code",
   "execution_count": 13,
   "id": "170fe843",
   "metadata": {},
   "outputs": [
    {
     "name": "stdout",
     "output_type": "stream",
     "text": [
      "please enter mealsouthindian\n",
      "rombala\n"
     ]
    }
   ],
   "source": [
    "m=input(\"please enter meal\")\n",
    "if m==\"southindian\":\n",
    "    print(\"rombala\")\n",
    "elif m==\"punjabi\":\n",
    "    print(\"vadiya haichi\")\n",
    "elif m==\"odiya\":\n",
    "    print(\"bhala_heichi\")"
   ]
  },
  {
   "cell_type": "code",
   "execution_count": null,
   "id": "107a31e9",
   "metadata": {},
   "outputs": [],
   "source": []
  }
 ],
 "metadata": {
  "kernelspec": {
   "display_name": "Python 3 (ipykernel)",
   "language": "python",
   "name": "python3"
  },
  "language_info": {
   "codemirror_mode": {
    "name": "ipython",
    "version": 3
   },
   "file_extension": ".py",
   "mimetype": "text/x-python",
   "name": "python",
   "nbconvert_exporter": "python",
   "pygments_lexer": "ipython3",
   "version": "3.9.7"
  }
 },
 "nbformat": 4,
 "nbformat_minor": 5
}
