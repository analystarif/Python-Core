{
 "cells": [
  {
   "cell_type": "code",
   "execution_count": 2,
   "id": "47135eb5",
   "metadata": {},
   "outputs": [],
   "source": [
    "#function\n",
    "\n",
    "def add (a,b):\n",
    "    c=a+b\n",
    "    print(c)"
   ]
  },
  {
   "cell_type": "code",
   "execution_count": 3,
   "id": "9c0750b2",
   "metadata": {},
   "outputs": [
    {
     "name": "stdout",
     "output_type": "stream",
     "text": [
      "8\n"
     ]
    }
   ],
   "source": [
    "add(1,7)"
   ]
  },
  {
   "cell_type": "markdown",
   "id": "b11e7da1",
   "metadata": {},
   "source": [
    "steps to involved in making user-defined function\n",
    "1. define function name\n",
    "2. we need to dedide the no. of parameters per the function\n",
    "3. come inside the funcition body & write logic of your function\n",
    "4.call the function outside the body of function and the pass the value"
   ]
  },
  {
   "cell_type": "code",
   "execution_count": null,
   "id": "35023f11",
   "metadata": {},
   "outputs": [],
   "source": [
    "#wa function to convert celcius degree temprature to farenhite.\n",
    "  °F = (°C × 9/5) + 32 "
   ]
  },
  {
   "cell_type": "code",
   "execution_count": 6,
   "id": "b518999d",
   "metadata": {},
   "outputs": [],
   "source": [
    "def far (c):\n",
    "    fa=(c*9/5)+32\n",
    "    print(fa)"
   ]
  },
  {
   "cell_type": "code",
   "execution_count": 9,
   "id": "4639ba4c",
   "metadata": {},
   "outputs": [
    {
     "name": "stdout",
     "output_type": "stream",
     "text": [
      "53.6\n"
     ]
    }
   ],
   "source": [
    "far(12)"
   ]
  },
  {
   "cell_type": "code",
   "execution_count": 10,
   "id": "3d3e1aba",
   "metadata": {},
   "outputs": [
    {
     "name": "stdout",
     "output_type": "stream",
     "text": [
      "-40.0\n"
     ]
    }
   ],
   "source": [
    "far(-40)"
   ]
  },
  {
   "cell_type": "code",
   "execution_count": null,
   "id": "dda344c3",
   "metadata": {},
   "outputs": [],
   "source": [
    "farenhite to celcius\n",
    "#C = (°F − 32) x 5/9 "
   ]
  },
  {
   "cell_type": "code",
   "execution_count": 13,
   "id": "1a3f1d29",
   "metadata": {},
   "outputs": [],
   "source": [
    "#wap to find the grade of students by taking marks.\n",
    "def marks(math,hin,eng,urdu,sci):\n",
    "    mark=math+hin+eng+urdu+sci\n",
    "    if mark>300:\n",
    "        print('A')\n",
    "    elif mark>250:\n",
    "        print('B')\n",
    "    elif mark>180:\n",
    "        print('C')\n",
    "    "
   ]
  },
  {
   "cell_type": "code",
   "execution_count": 14,
   "id": "bf5827c3",
   "metadata": {},
   "outputs": [
    {
     "name": "stdout",
     "output_type": "stream",
     "text": [
      "A\n"
     ]
    }
   ],
   "source": [
    "marks(29,89,86,89,86)"
   ]
  },
  {
   "cell_type": "code",
   "execution_count": 17,
   "id": "c853fbb2",
   "metadata": {},
   "outputs": [
    {
     "name": "stdout",
     "output_type": "stream",
     "text": [
      "A\n"
     ]
    }
   ],
   "source": [
    "def grade(marks):\n",
    "    if marks>=90:\n",
    "        print('A')\n",
    "    elif 90>marks>=80:\n",
    "         print('B')\n",
    "    elif 80>marks>=80:\n",
    "         print('C')\n",
    "grade(91)"
   ]
  },
  {
   "cell_type": "code",
   "execution_count": 47,
   "id": "166bb468",
   "metadata": {},
   "outputs": [
    {
     "data": {
      "text/plain": [
       "70"
      ]
     },
     "execution_count": 47,
     "metadata": {},
     "output_type": "execute_result"
    }
   ],
   "source": [
    "# Return in function\n",
    "\n",
    "def add(a,b):\n",
    "    c=a+b\n",
    "    return c\n",
    "    print('this is done')\n",
    "add(20,50)"
   ]
  },
  {
   "cell_type": "code",
   "execution_count": 22,
   "id": "b35133b7",
   "metadata": {},
   "outputs": [
    {
     "data": {
      "text/plain": [
       "129.9"
      ]
     },
     "execution_count": 22,
     "metadata": {},
     "output_type": "execute_result"
    }
   ],
   "source": [
    "# round function\n",
    "\n",
    "round(129.899299,2)"
   ]
  },
  {
   "cell_type": "code",
   "execution_count": 25,
   "id": "505b4e55",
   "metadata": {},
   "outputs": [
    {
     "name": "stdout",
     "output_type": "stream",
     "text": [
      "Help on built-in module math:\n",
      "\n",
      "NAME\n",
      "    math\n",
      "\n",
      "DESCRIPTION\n",
      "    This module provides access to the mathematical functions\n",
      "    defined by the C standard.\n",
      "\n",
      "FUNCTIONS\n",
      "    acos(x, /)\n",
      "        Return the arc cosine (measured in radians) of x.\n",
      "        \n",
      "        The result is between 0 and pi.\n",
      "    \n",
      "    acosh(x, /)\n",
      "        Return the inverse hyperbolic cosine of x.\n",
      "    \n",
      "    asin(x, /)\n",
      "        Return the arc sine (measured in radians) of x.\n",
      "        \n",
      "        The result is between -pi/2 and pi/2.\n",
      "    \n",
      "    asinh(x, /)\n",
      "        Return the inverse hyperbolic sine of x.\n",
      "    \n",
      "    atan(x, /)\n",
      "        Return the arc tangent (measured in radians) of x.\n",
      "        \n",
      "        The result is between -pi/2 and pi/2.\n",
      "    \n",
      "    atan2(y, x, /)\n",
      "        Return the arc tangent (measured in radians) of y/x.\n",
      "        \n",
      "        Unlike atan(y/x), the signs of both x and y are considered.\n",
      "    \n",
      "    atanh(x, /)\n",
      "        Return the inverse hyperbolic tangent of x.\n",
      "    \n",
      "    ceil(x, /)\n",
      "        Return the ceiling of x as an Integral.\n",
      "        \n",
      "        This is the smallest integer >= x.\n",
      "    \n",
      "    comb(n, k, /)\n",
      "        Number of ways to choose k items from n items without repetition and without order.\n",
      "        \n",
      "        Evaluates to n! / (k! * (n - k)!) when k <= n and evaluates\n",
      "        to zero when k > n.\n",
      "        \n",
      "        Also called the binomial coefficient because it is equivalent\n",
      "        to the coefficient of k-th term in polynomial expansion of the\n",
      "        expression (1 + x)**n.\n",
      "        \n",
      "        Raises TypeError if either of the arguments are not integers.\n",
      "        Raises ValueError if either of the arguments are negative.\n",
      "    \n",
      "    copysign(x, y, /)\n",
      "        Return a float with the magnitude (absolute value) of x but the sign of y.\n",
      "        \n",
      "        On platforms that support signed zeros, copysign(1.0, -0.0)\n",
      "        returns -1.0.\n",
      "    \n",
      "    cos(x, /)\n",
      "        Return the cosine of x (measured in radians).\n",
      "    \n",
      "    cosh(x, /)\n",
      "        Return the hyperbolic cosine of x.\n",
      "    \n",
      "    degrees(x, /)\n",
      "        Convert angle x from radians to degrees.\n",
      "    \n",
      "    dist(p, q, /)\n",
      "        Return the Euclidean distance between two points p and q.\n",
      "        \n",
      "        The points should be specified as sequences (or iterables) of\n",
      "        coordinates.  Both inputs must have the same dimension.\n",
      "        \n",
      "        Roughly equivalent to:\n",
      "            sqrt(sum((px - qx) ** 2.0 for px, qx in zip(p, q)))\n",
      "    \n",
      "    erf(x, /)\n",
      "        Error function at x.\n",
      "    \n",
      "    erfc(x, /)\n",
      "        Complementary error function at x.\n",
      "    \n",
      "    exp(x, /)\n",
      "        Return e raised to the power of x.\n",
      "    \n",
      "    expm1(x, /)\n",
      "        Return exp(x)-1.\n",
      "        \n",
      "        This function avoids the loss of precision involved in the direct evaluation of exp(x)-1 for small x.\n",
      "    \n",
      "    fabs(x, /)\n",
      "        Return the absolute value of the float x.\n",
      "    \n",
      "    factorial(x, /)\n",
      "        Find x!.\n",
      "        \n",
      "        Raise a ValueError if x is negative or non-integral.\n",
      "    \n",
      "    floor(x, /)\n",
      "        Return the floor of x as an Integral.\n",
      "        \n",
      "        This is the largest integer <= x.\n",
      "    \n",
      "    fmod(x, y, /)\n",
      "        Return fmod(x, y), according to platform C.\n",
      "        \n",
      "        x % y may differ.\n",
      "    \n",
      "    frexp(x, /)\n",
      "        Return the mantissa and exponent of x, as pair (m, e).\n",
      "        \n",
      "        m is a float and e is an int, such that x = m * 2.**e.\n",
      "        If x is 0, m and e are both 0.  Else 0.5 <= abs(m) < 1.0.\n",
      "    \n",
      "    fsum(seq, /)\n",
      "        Return an accurate floating point sum of values in the iterable seq.\n",
      "        \n",
      "        Assumes IEEE-754 floating point arithmetic.\n",
      "    \n",
      "    gamma(x, /)\n",
      "        Gamma function at x.\n",
      "    \n",
      "    gcd(*integers)\n",
      "        Greatest Common Divisor.\n",
      "    \n",
      "    hypot(...)\n",
      "        hypot(*coordinates) -> value\n",
      "        \n",
      "        Multidimensional Euclidean distance from the origin to a point.\n",
      "        \n",
      "        Roughly equivalent to:\n",
      "            sqrt(sum(x**2 for x in coordinates))\n",
      "        \n",
      "        For a two dimensional point (x, y), gives the hypotenuse\n",
      "        using the Pythagorean theorem:  sqrt(x*x + y*y).\n",
      "        \n",
      "        For example, the hypotenuse of a 3/4/5 right triangle is:\n",
      "        \n",
      "            >>> hypot(3.0, 4.0)\n",
      "            5.0\n",
      "    \n",
      "    isclose(a, b, *, rel_tol=1e-09, abs_tol=0.0)\n",
      "        Determine whether two floating point numbers are close in value.\n",
      "        \n",
      "          rel_tol\n",
      "            maximum difference for being considered \"close\", relative to the\n",
      "            magnitude of the input values\n",
      "          abs_tol\n",
      "            maximum difference for being considered \"close\", regardless of the\n",
      "            magnitude of the input values\n",
      "        \n",
      "        Return True if a is close in value to b, and False otherwise.\n",
      "        \n",
      "        For the values to be considered close, the difference between them\n",
      "        must be smaller than at least one of the tolerances.\n",
      "        \n",
      "        -inf, inf and NaN behave similarly to the IEEE 754 Standard.  That\n",
      "        is, NaN is not close to anything, even itself.  inf and -inf are\n",
      "        only close to themselves.\n",
      "    \n",
      "    isfinite(x, /)\n",
      "        Return True if x is neither an infinity nor a NaN, and False otherwise.\n",
      "    \n",
      "    isinf(x, /)\n",
      "        Return True if x is a positive or negative infinity, and False otherwise.\n",
      "    \n",
      "    isnan(x, /)\n",
      "        Return True if x is a NaN (not a number), and False otherwise.\n",
      "    \n",
      "    isqrt(n, /)\n",
      "        Return the integer part of the square root of the input.\n",
      "    \n",
      "    lcm(*integers)\n",
      "        Least Common Multiple.\n",
      "    \n",
      "    ldexp(x, i, /)\n",
      "        Return x * (2**i).\n",
      "        \n",
      "        This is essentially the inverse of frexp().\n",
      "    \n",
      "    lgamma(x, /)\n",
      "        Natural logarithm of absolute value of Gamma function at x.\n",
      "    \n",
      "    log(...)\n",
      "        log(x, [base=math.e])\n",
      "        Return the logarithm of x to the given base.\n",
      "        \n",
      "        If the base not specified, returns the natural logarithm (base e) of x.\n",
      "    \n",
      "    log10(x, /)\n",
      "        Return the base 10 logarithm of x.\n",
      "    \n",
      "    log1p(x, /)\n",
      "        Return the natural logarithm of 1+x (base e).\n",
      "        \n",
      "        The result is computed in a way which is accurate for x near zero.\n",
      "    \n",
      "    log2(x, /)\n",
      "        Return the base 2 logarithm of x.\n",
      "    \n",
      "    modf(x, /)\n",
      "        Return the fractional and integer parts of x.\n",
      "        \n",
      "        Both results carry the sign of x and are floats.\n",
      "    \n",
      "    nextafter(x, y, /)\n",
      "        Return the next floating-point value after x towards y.\n",
      "    \n",
      "    perm(n, k=None, /)\n",
      "        Number of ways to choose k items from n items without repetition and with order.\n",
      "        \n",
      "        Evaluates to n! / (n - k)! when k <= n and evaluates\n",
      "        to zero when k > n.\n",
      "        \n",
      "        If k is not specified or is None, then k defaults to n\n",
      "        and the function returns n!.\n",
      "        \n",
      "        Raises TypeError if either of the arguments are not integers.\n",
      "        Raises ValueError if either of the arguments are negative.\n",
      "    \n",
      "    pow(x, y, /)\n",
      "        Return x**y (x to the power of y).\n",
      "    \n",
      "    prod(iterable, /, *, start=1)\n",
      "        Calculate the product of all the elements in the input iterable.\n",
      "        \n",
      "        The default start value for the product is 1.\n",
      "        \n",
      "        When the iterable is empty, return the start value.  This function is\n",
      "        intended specifically for use with numeric values and may reject\n",
      "        non-numeric types.\n",
      "    \n",
      "    radians(x, /)\n",
      "        Convert angle x from degrees to radians.\n",
      "    \n",
      "    remainder(x, y, /)\n",
      "        Difference between x and the closest integer multiple of y.\n",
      "        \n",
      "        Return x - n*y where n*y is the closest integer multiple of y.\n",
      "        In the case where x is exactly halfway between two multiples of\n",
      "        y, the nearest even value of n is used. The result is always exact.\n",
      "    \n",
      "    sin(x, /)\n",
      "        Return the sine of x (measured in radians).\n",
      "    \n",
      "    sinh(x, /)\n",
      "        Return the hyperbolic sine of x.\n",
      "    \n",
      "    sqrt(x, /)\n",
      "        Return the square root of x.\n",
      "    \n",
      "    tan(x, /)\n",
      "        Return the tangent of x (measured in radians).\n",
      "    \n",
      "    tanh(x, /)\n",
      "        Return the hyperbolic tangent of x.\n",
      "    \n",
      "    trunc(x, /)\n",
      "        Truncates the Real x to the nearest Integral toward 0.\n",
      "        \n",
      "        Uses the __trunc__ magic method.\n",
      "    \n",
      "    ulp(x, /)\n",
      "        Return the value of the least significant bit of the float x.\n",
      "\n",
      "DATA\n",
      "    e = 2.718281828459045\n",
      "    inf = inf\n",
      "    nan = nan\n",
      "    pi = 3.141592653589793\n",
      "    tau = 6.283185307179586\n",
      "\n",
      "FILE\n",
      "    (built-in)\n",
      "\n",
      "\n"
     ]
    }
   ],
   "source": [
    "import math\n",
    "help(math)"
   ]
  },
  {
   "cell_type": "code",
   "execution_count": 26,
   "id": "ff495d47",
   "metadata": {},
   "outputs": [
    {
     "data": {
      "text/plain": [
       "['__doc__',\n",
       " '__loader__',\n",
       " '__name__',\n",
       " '__package__',\n",
       " '__spec__',\n",
       " 'acos',\n",
       " 'acosh',\n",
       " 'asin',\n",
       " 'asinh',\n",
       " 'atan',\n",
       " 'atan2',\n",
       " 'atanh',\n",
       " 'ceil',\n",
       " 'comb',\n",
       " 'copysign',\n",
       " 'cos',\n",
       " 'cosh',\n",
       " 'degrees',\n",
       " 'dist',\n",
       " 'e',\n",
       " 'erf',\n",
       " 'erfc',\n",
       " 'exp',\n",
       " 'expm1',\n",
       " 'fabs',\n",
       " 'factorial',\n",
       " 'floor',\n",
       " 'fmod',\n",
       " 'frexp',\n",
       " 'fsum',\n",
       " 'gamma',\n",
       " 'gcd',\n",
       " 'hypot',\n",
       " 'inf',\n",
       " 'isclose',\n",
       " 'isfinite',\n",
       " 'isinf',\n",
       " 'isnan',\n",
       " 'isqrt',\n",
       " 'lcm',\n",
       " 'ldexp',\n",
       " 'lgamma',\n",
       " 'log',\n",
       " 'log10',\n",
       " 'log1p',\n",
       " 'log2',\n",
       " 'modf',\n",
       " 'nan',\n",
       " 'nextafter',\n",
       " 'perm',\n",
       " 'pi',\n",
       " 'pow',\n",
       " 'prod',\n",
       " 'radians',\n",
       " 'remainder',\n",
       " 'sin',\n",
       " 'sinh',\n",
       " 'sqrt',\n",
       " 'tan',\n",
       " 'tanh',\n",
       " 'tau',\n",
       " 'trunc',\n",
       " 'ulp']"
      ]
     },
     "execution_count": 26,
     "metadata": {},
     "output_type": "execute_result"
    }
   ],
   "source": [
    "dir(math)"
   ]
  },
  {
   "cell_type": "code",
   "execution_count": null,
   "id": "aa6aa643",
   "metadata": {},
   "outputs": [],
   "source": [
    "#wa function to greet people with good morning if thier name has a in it. else greet hello .take input from user regarding the people"
   ]
  },
  {
   "cell_type": "code",
   "execution_count": 59,
   "id": "31d95f1c",
   "metadata": {},
   "outputs": [
    {
     "name": "stdout",
     "output_type": "stream",
     "text": [
      "enter a name ranchi\n",
      "good morning ranchi\n"
     ]
    }
   ],
   "source": [
    "def greet():\n",
    "    n=input('enter a name ').split( )\n",
    "    for i in n:\n",
    "        if 'a' in i:\n",
    "            print('good morning',i)\n",
    "        else:\n",
    "            print('hello',i)\n",
    "greet()"
   ]
  },
  {
   "cell_type": "code",
   "execution_count": 11,
   "id": "248c8118",
   "metadata": {},
   "outputs": [
    {
     "data": {
      "text/plain": [
       "(1, 5)"
      ]
     },
     "execution_count": 11,
     "metadata": {},
     "output_type": "execute_result"
    }
   ],
   "source": [
    "''' home work-  function- q-10,q-1 on w3 resources\n",
    "#wap to create your own range() function\n",
    "'''\n",
    "\n",
    "#wa function to create own range() function\n",
    "\n",
    "def myrange(start,end,step):\n",
    "    step=0\n",
    "    \n",
    "    if start<end:\n",
    "        step=+1\n",
    "        for i in \n",
    "    else:\n",
    "        step=-1\n",
    "        \n",
    "        \n",
    "        \n",
    "myrange(1,5,3)"
   ]
  },
  {
   "cell_type": "code",
   "execution_count": 39,
   "id": "17021f55",
   "metadata": {},
   "outputs": [],
   "source": [
    "def full_name (firstname,lastname):\n",
    "    print(firstname + \" \" +  lastname)\n",
    "    "
   ]
  },
  {
   "cell_type": "code",
   "execution_count": 41,
   "id": "d63d79d9",
   "metadata": {},
   "outputs": [
    {
     "name": "stdout",
     "output_type": "stream",
     "text": [
      "arif alam\n"
     ]
    }
   ],
   "source": [
    "full_name('arif','alam')"
   ]
  },
  {
   "cell_type": "code",
   "execution_count": 45,
   "id": "f0a83378",
   "metadata": {},
   "outputs": [],
   "source": [
    "def arif(*kids):\n",
    "       print('my youngest child'+ kids[1])\n",
    "        "
   ]
  },
  {
   "cell_type": "code",
   "execution_count": 46,
   "id": "a67e954d",
   "metadata": {},
   "outputs": [
    {
     "name": "stdout",
     "output_type": "stream",
     "text": [
      "my youngest childanwar\n"
     ]
    }
   ],
   "source": [
    "arif('aslam','anwar','gulati')"
   ]
  },
  {
   "cell_type": "code",
   "execution_count": 64,
   "id": "a442ed6c",
   "metadata": {},
   "outputs": [],
   "source": [
    "# function return 2 values\n",
    "\n",
    "def add_sub(x,y):\n",
    "    a=x+y\n",
    "    s=x-y\n",
    "    return a,s;\n"
   ]
  },
  {
   "cell_type": "code",
   "execution_count": 72,
   "id": "dc38e039",
   "metadata": {},
   "outputs": [
    {
     "name": "stdout",
     "output_type": "stream",
     "text": [
      "40\n",
      "20\n"
     ]
    }
   ],
   "source": [
    "add,sub=add_sub(30,10)\n",
    "print(add)\n",
    "print(sub)"
   ]
  },
  {
   "cell_type": "code",
   "execution_count": 73,
   "id": "a01961b4",
   "metadata": {},
   "outputs": [],
   "source": [
    "def fun():\n",
    "    return 'a','b','c','d'"
   ]
  },
  {
   "cell_type": "code",
   "execution_count": 74,
   "id": "2a78ecc4",
   "metadata": {},
   "outputs": [
    {
     "data": {
      "text/plain": [
       "('a', 'b', 'c', 'd')"
      ]
     },
     "execution_count": 74,
     "metadata": {},
     "output_type": "execute_result"
    }
   ],
   "source": [
    "fun()"
   ]
  },
  {
   "cell_type": "code",
   "execution_count": 75,
   "id": "aa9ba4a7",
   "metadata": {},
   "outputs": [
    {
     "data": {
      "text/plain": [
       "tuple"
      ]
     },
     "execution_count": 75,
     "metadata": {},
     "output_type": "execute_result"
    }
   ],
   "source": [
    "type(fun())"
   ]
  },
  {
   "cell_type": "code",
   "execution_count": 1,
   "id": "9602ca56",
   "metadata": {},
   "outputs": [],
   "source": [
    "a=10,9,6"
   ]
  },
  {
   "cell_type": "code",
   "execution_count": 3,
   "id": "a7732c15",
   "metadata": {},
   "outputs": [],
   "source": [
    "#wa function to calculate factorial using while loop:\n",
    "\n",
    "def fact():\n",
    "    n=int(input('please enter the num'))\n",
    "    \n",
    "    i=0\n",
    "    f=1\n",
    "    while i<n:\n",
    "        i+=1\n",
    "        f=f*i\n",
    "       \n",
    "    return f\n",
    "        "
   ]
  },
  {
   "cell_type": "code",
   "execution_count": 4,
   "id": "9e4a3dd8",
   "metadata": {},
   "outputs": [
    {
     "name": "stdout",
     "output_type": "stream",
     "text": [
      "please enter the num5\n"
     ]
    },
    {
     "data": {
      "text/plain": [
       "120"
      ]
     },
     "execution_count": 4,
     "metadata": {},
     "output_type": "execute_result"
    }
   ],
   "source": [
    "fact()"
   ]
  },
  {
   "cell_type": "code",
   "execution_count": 18,
   "id": "f4ca6495",
   "metadata": {},
   "outputs": [
    {
     "name": "stdout",
     "output_type": "stream",
     "text": [
      "rahul\n",
      "20\n",
      "sumit\n",
      "25\n",
      "aditya\n",
      "18\n",
      "amit\n",
      "23\n",
      "13\n"
     ]
    }
   ],
   "source": [
    "#Arguments Type \n",
    "\n",
    "#position Argumnents\n",
    "\n",
    "def person(name,age):\n",
    "    print(name)\n",
    "    print(age)\n",
    "    \n",
    "person('rahul',20)\n",
    "\n",
    "# 2. keyword Argumnents\n",
    "\n",
    "def person(name,age):\n",
    "    print(name)\n",
    "    print(age)\n",
    "    \n",
    "person(age=25,name='sumit')\n",
    "\n",
    "# 2. Default Argumnents\n",
    "\n",
    "def person(name,age=18):\n",
    "    print(name)\n",
    "    print(age)\n",
    "    \n",
    "person('aditya')\n",
    "person('amit',23)\n",
    "\n",
    "# 2. Variable length Argumnents\n",
    "\n",
    "def sum(*b):\n",
    "    c=0\n",
    "    for i in b:\n",
    "        c=c+i\n",
    "    print(c)\n",
    "\n",
    "sum(7,1,3,2)\n",
    "    "
   ]
  },
  {
   "cell_type": "code",
   "execution_count": 43,
   "id": "5860b48b",
   "metadata": {},
   "outputs": [],
   "source": [
    "# 1. Write a Python function to find the Max of three numbers. \n",
    "\n",
    "def max_number(a,b,c):\n",
    "    if a>b and a>c:\n",
    "        print(a,'is gretaer')\n",
    "    elif b>c and b>a:\n",
    "        print(b,'is greater')\n",
    "    elif c>a and c>b:\n",
    "        print(c,'is greater')\n",
    "  \n"
   ]
  },
  {
   "cell_type": "code",
   "execution_count": 46,
   "id": "dee30015",
   "metadata": {},
   "outputs": [
    {
     "name": "stdout",
     "output_type": "stream",
     "text": [
      "100 is greater\n"
     ]
    }
   ],
   "source": [
    "max_number(89,100,8)"
   ]
  },
  {
   "cell_type": "code",
   "execution_count": 51,
   "id": "4056cc85",
   "metadata": {},
   "outputs": [
    {
     "name": "stdout",
     "output_type": "stream",
     "text": [
      "2\n",
      "4\n",
      "6\n",
      "8\n"
     ]
    }
   ],
   "source": [
    "''' 10. Write a Python program to print the even numbers from a given list. Go to the editor\n",
    "Sample List : [1, 2, 3, 4, 5, 6, 7, 8, 9] '''\n",
    "\n",
    "#method 1\n",
    "\n",
    "l=[1,2,3,4,5,6,7,8,9]\n",
    "\n",
    "def even():\n",
    "    for i in l:\n",
    "        if i%2==0:\n",
    "            print(i)\n",
    "        \n",
    "even()"
   ]
  },
  {
   "cell_type": "code",
   "execution_count": 56,
   "id": "d8525bc7",
   "metadata": {},
   "outputs": [],
   "source": [
    "''' 10. Write a Python program to print the even numbers from a given list. Go to the editor\n",
    "Sample List : [1, 2, 3, 4, 5, 6, 7, 8, 9] '''\n",
    "\n",
    "#method 2\n",
    "\n",
    "def even(l):\n",
    "    enum=[]\n",
    "    for i in l:\n",
    "        if i%2==0:\n",
    "            enum.append(i)\n",
    "    return enum\n",
    "#print(even([1, 2, 3, 4, 5, 6, 7, 8, 9]))\n",
    "    "
   ]
  },
  {
   "cell_type": "code",
   "execution_count": 57,
   "id": "9abde114",
   "metadata": {},
   "outputs": [
    {
     "data": {
      "text/plain": [
       "[2, 4, 6, 8]"
      ]
     },
     "execution_count": 57,
     "metadata": {},
     "output_type": "execute_result"
    }
   ],
   "source": [
    "even([1,2,3,4,5,6,7,8,9])"
   ]
  },
  {
   "cell_type": "code",
   "execution_count": 2,
   "id": "2bd33591",
   "metadata": {},
   "outputs": [
    {
     "data": {
      "text/plain": [
       "[('ramesh', 45, 12), ('suresh', 89, 56)]"
      ]
     },
     "execution_count": 2,
     "metadata": {},
     "output_type": "execute_result"
    }
   ],
   "source": [
    "students = [\"ramesh\",\"suresh\"]\n",
    "marks=[45,89]\n",
    "roll_no=[12,56]\n",
    "list(zip(students,marks,roll_no))"
   ]
  },
  {
   "cell_type": "code",
   "execution_count": 3,
   "id": "cf6d17b7",
   "metadata": {},
   "outputs": [
    {
     "data": {
      "text/plain": [
       "456"
      ]
     },
     "execution_count": 3,
     "metadata": {},
     "output_type": "execute_result"
    }
   ],
   "source": [
    "l=[2,456,67]\n",
    "max(l)"
   ]
  },
  {
   "cell_type": "code",
   "execution_count": 37,
   "id": "add40ce8",
   "metadata": {},
   "outputs": [
    {
     "data": {
      "text/plain": [
       "2"
      ]
     },
     "execution_count": 37,
     "metadata": {},
     "output_type": "execute_result"
    }
   ],
   "source": [
    "min(l)"
   ]
  },
  {
   "cell_type": "code",
   "execution_count": 15,
   "id": "244fccdc",
   "metadata": {},
   "outputs": [
    {
     "name": "stdout",
     "output_type": "stream",
     "text": [
      "77 M\n",
      "117 u\n",
      "109 m\n",
      "98 b\n",
      "97 a\n",
      "105 i\n",
      "u\n"
     ]
    },
    {
     "data": {
      "text/plain": [
       "'M'"
      ]
     },
     "execution_count": 15,
     "metadata": {},
     "output_type": "execute_result"
    }
   ],
   "source": [
    "s=\"Mumbai\"\n",
    "for i in s:\n",
    "    print(ord(i),i)\n",
    "print(max(s))\n",
    "min(s)"
   ]
  },
  {
   "cell_type": "code",
   "execution_count": 17,
   "id": "e50415b9",
   "metadata": {},
   "outputs": [
    {
     "name": "stdout",
     "output_type": "stream",
     "text": [
      "77.0\n",
      "25.0\n"
     ]
    }
   ],
   "source": [
    "# types of parameter in function\n",
    "#required \n",
    "#default\n",
    "#keyword\n",
    "#artibitary\n",
    "\n",
    "\n",
    "\n",
    "#default\n",
    "def cel_feh(c=67):\n",
    "    f=9/5*c+32\n",
    "    print(f)\n",
    "    c1=(f-32)*5/9\n",
    "    print(c1)\n",
    "cel_feh(25)"
   ]
  },
  {
   "cell_type": "code",
   "execution_count": 21,
   "id": "e98f6fd0",
   "metadata": {},
   "outputs": [
    {
     "name": "stdout",
     "output_type": "stream",
     "text": [
      "singh aman\n"
     ]
    }
   ],
   "source": [
    "# keyword\n",
    "def name (fname,lname=\"singh\"):\n",
    "    print(lname,fname)\n",
    "    \n",
    "name(\"aman\")\n",
    "name(\"aman\",\"teja\")"
   ]
  },
  {
   "cell_type": "code",
   "execution_count": null,
   "id": "631316fe",
   "metadata": {},
   "outputs": [],
   "source": [
    "\n",
    "def name(fname,lname):\n",
    "    print(fname,lname)\n",
    "name(fname='aman',lname='singh')"
   ]
  },
  {
   "cell_type": "code",
   "execution_count": 22,
   "id": "4f441b17",
   "metadata": {},
   "outputs": [
    {
     "name": "stdout",
     "output_type": "stream",
     "text": [
      "34\n",
      "67\n",
      "dam\n",
      "90.89\n"
     ]
    }
   ],
   "source": [
    "#arbitory 1. args\n",
    "\n",
    "def fun(*a):\n",
    "    for i in a:\n",
    "        print(i)\n",
    "fun(34,67,\"dam\",90.89)"
   ]
  },
  {
   "cell_type": "code",
   "execution_count": 29,
   "id": "1e05bc36",
   "metadata": {},
   "outputs": [
    {
     "name": "stdout",
     "output_type": "stream",
     "text": [
      "<class 'dict'>\n",
      "{'h': 12.78, 'b': 'aman', 'c': 67, 'd': 17, 'e': 'dog'}\n",
      "h : 12.78\n",
      "b : aman\n",
      "c : 67\n",
      "d : 17\n",
      "e : dog\n"
     ]
    }
   ],
   "source": [
    "#arbitory 2. args\n",
    "\n",
    "def fun2(**a):\n",
    "    print(type(a))\n",
    "    print(a)\n",
    "    for i,j in a.items():\n",
    "        print(i,\":\",j)\n",
    "\n",
    "fun2(h=12.78,b=\"aman\",c=67,d=17,e=\"dog\")\n"
   ]
  },
  {
   "cell_type": "code",
   "execution_count": 36,
   "id": "5cdafb17",
   "metadata": {},
   "outputs": [
    {
     "data": {
      "text/plain": [
       "16"
      ]
     },
     "execution_count": 36,
     "metadata": {},
     "output_type": "execute_result"
    }
   ],
   "source": [
    "p=-4\n",
    "a=p**2\n",
    "a"
   ]
  },
  {
   "cell_type": "code",
   "execution_count": 33,
   "id": "892df43c",
   "metadata": {},
   "outputs": [
    {
     "name": "stdout",
     "output_type": "stream",
     "text": [
      "10\n"
     ]
    },
    {
     "data": {
      "text/plain": [
       "10"
      ]
     },
     "execution_count": 33,
     "metadata": {},
     "output_type": "execute_result"
    }
   ],
   "source": [
    "def fun():\n",
    "    global z\n",
    "    z=10\n",
    "    print(z)\n",
    "fun()\n",
    "z"
   ]
  },
  {
   "cell_type": "code",
   "execution_count": null,
   "id": "a0949ed4",
   "metadata": {},
   "outputs": [],
   "source": []
  }
 ],
 "metadata": {
  "kernelspec": {
   "display_name": "Python 3 (ipykernel)",
   "language": "python",
   "name": "python3"
  },
  "language_info": {
   "codemirror_mode": {
    "name": "ipython",
    "version": 3
   },
   "file_extension": ".py",
   "mimetype": "text/x-python",
   "name": "python",
   "nbconvert_exporter": "python",
   "pygments_lexer": "ipython3",
   "version": "3.9.7"
  }
 },
 "nbformat": 4,
 "nbformat_minor": 5
}
