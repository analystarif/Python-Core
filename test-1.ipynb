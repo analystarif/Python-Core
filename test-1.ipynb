{
 "cells": [
  {
   "cell_type": "code",
   "execution_count": 44,
   "id": "06e6bcb2",
   "metadata": {},
   "outputs": [
    {
     "name": "stdout",
     "output_type": "stream",
     "text": [
      "45 more than 3 factors\n",
      "46 more than 3 factors\n",
      "47 less factors\n",
      "48 more than 3 factors\n",
      "49 less factors\n",
      "50 more than 3 factors\n",
      "51 more than 3 factors\n",
      "52 more than 3 factors\n",
      "53 less factors\n",
      "54 more than 3 factors\n",
      "55 more than 3 factors\n",
      "8 \n",
      "3 \n"
     ]
    }
   ],
   "source": [
    "# wap to check the number is having factors more than 3. from 45 to 56 and count the number\n",
    "d,e=0,0\n",
    "for i in range(45,56):\n",
    "    c=0\n",
    "    for j in range(1,i+1):\n",
    "        if i%j==0:\n",
    "            c=c+1\n",
    "    if c>3:\n",
    "        d=d+1\n",
    "        print(i,\"more than 3 factors\")\n",
    "    else: \n",
    "        e=e+1\n",
    "        print(i,\"less factors\")\n",
    "print(d, \"\")\n",
    "print(e,\"\")"
   ]
  },
  {
   "cell_type": "code",
   "execution_count": 12,
   "id": "2b589570",
   "metadata": {},
   "outputs": [
    {
     "name": "stdout",
     "output_type": "stream",
     "text": [
      "enter the size of ram5\n",
      "we can work\n"
     ]
    }
   ],
   "source": [
    "'''wap to input size of ram, harddisk and core of your system if the ram is 4 ,hdd is 500 and core is i5 or \n",
    "greater than print we can work on it. if ram is lesser than 4, ask the user to increase it by the multiples of 2 .\n",
    "if  the hdd is lesser than 500 , then ask the user to install sdd, and if the core is lesser than 5, ask the user\n",
    "to change the system\n",
    "'''\n",
    "\n",
    "\n",
    "\n",
    "ram=int(input(\"enter the size of ram\"))\n",
    "if ram<=4:\n",
    "    hdd=int(input(\"enter the size of hdd\"))\n",
    "    if hdd>500:\n",
    "        core=int(input(\"enter the core\"))\n",
    "        \n",
    "        if core<=5:\n",
    "            print(\"change the system\")\n",
    "    else: \n",
    "        print(\"install sdd lesser than 500\")\n",
    "else: \n",
    "    print(\"we can work\")\n",
    "    \n",
    "    \n",
    "    \n",
    "   "
   ]
  },
  {
   "cell_type": "code",
   "execution_count": 26,
   "id": "822e3111",
   "metadata": {},
   "outputs": [
    {
     "name": "stdout",
     "output_type": "stream",
     "text": [
      "the\n",
      "23 is odd cube is : 12167\n",
      "44 is even sqare is:  1936\n",
      "56 is even sqare is:  3136\n",
      "python\n",
      "90 is even sqare is:  8100\n",
      "123 is odd cube is : 1860867\n",
      "is\n",
      "67 is odd cube is : 300763\n",
      "fun\n",
      "33 is odd cube is : 35937\n"
     ]
    }
   ],
   "source": [
    "'''wap to find only the strings in the following list and if the element is float or int, check for even and odd,\n",
    "if the element is float or int, check for even and odd, if the element is even sqaure it and if the element is odd\n",
    "cube it\n",
    "\n",
    "l=[[\"the\",23,44],[56,\"python\",90],[123,True,\"is\"],[67,\"fun\",33]] \n",
    "'''\n",
    "\n",
    "l=[[\"the\",23,44],[56,\"python\",90],[123,True,\"is\"],[67,\"fun\",33]] \n",
    "\n",
    "for i in l:\n",
    "    for j in i:\n",
    "        if type(j)==str:\n",
    "            print(j)\n",
    "        elif type(j)==int or type(j)==float:\n",
    "            if j%2==0:\n",
    "                print(j,\"is even\",'sqare is: ',j**2)\n",
    "                \n",
    "            else:\n",
    "                print(j,\"is odd\", 'cube is :' ,j**3)\n",
    "            \n",
    "        #elif type(j)==float:\n",
    "            #print(j, ' is float')\n"
   ]
  },
  {
   "cell_type": "code",
   "execution_count": 15,
   "id": "462f3ce5",
   "metadata": {},
   "outputs": [
    {
     "name": "stdout",
     "output_type": "stream",
     "text": [
      "the\n",
      "python\n",
      "is\n",
      "fun\n"
     ]
    }
   ],
   "source": [
    "l=[[\"the\",23,44],[56,\"python\",90],[123,True,\"is\"],[67,\"fun\",33]]\n",
    "for i in l:\n",
    "    for j in i:\n",
    "        if type(j)==str:\n",
    "            print(j)"
   ]
  },
  {
   "cell_type": "code",
   "execution_count": 8,
   "id": "8d7d0d53",
   "metadata": {},
   "outputs": [
    {
     "name": "stdout",
     "output_type": "stream",
     "text": [
      "enter the number2\n",
      "2 , less than 3 factor\n"
     ]
    }
   ],
   "source": [
    "n=int(input(\"enter the number\"))\n",
    "c=0\n",
    "for i in range(1,n+1):\n",
    "     if n%i==0:\n",
    "        c=c+1\n",
    "if c>3:\n",
    "    print(n,', more than 3 factors')\n",
    "else:\n",
    "    print(n,\", less than 3 factor\")"
   ]
  },
  {
   "cell_type": "code",
   "execution_count": null,
   "id": "888b31b0",
   "metadata": {},
   "outputs": [],
   "source": []
  },
  {
   "cell_type": "code",
   "execution_count": null,
   "id": "134bff76",
   "metadata": {},
   "outputs": [],
   "source": []
  },
  {
   "cell_type": "code",
   "execution_count": null,
   "id": "4c4fdbe2",
   "metadata": {},
   "outputs": [],
   "source": []
  }
 ],
 "metadata": {
  "kernelspec": {
   "display_name": "Python 3 (ipykernel)",
   "language": "python",
   "name": "python3"
  },
  "language_info": {
   "codemirror_mode": {
    "name": "ipython",
    "version": 3
   },
   "file_extension": ".py",
   "mimetype": "text/x-python",
   "name": "python",
   "nbconvert_exporter": "python",
   "pygments_lexer": "ipython3",
   "version": "3.9.7"
  }
 },
 "nbformat": 4,
 "nbformat_minor": 5
}
