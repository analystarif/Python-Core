{
 "cells": [
  {
   "cell_type": "code",
   "execution_count": 2,
   "id": "4cb51dd7",
   "metadata": {},
   "outputs": [
    {
     "name": "stdout",
     "output_type": "stream",
     "text": [
      "enter number12\n",
      "1\n",
      "2\n",
      "3\n",
      "4\n",
      "5\n",
      "6\n",
      "7\n",
      "8\n",
      "9\n",
      "10\n",
      "11\n",
      "12\n"
     ]
    }
   ],
   "source": [
    "n=int(input(\"enter number\"))\n",
    "for i in range(1,n+1):\n",
    "    print(i)"
   ]
  },
  {
   "cell_type": "code",
   "execution_count": null,
   "id": "50877d28",
   "metadata": {},
   "outputs": [],
   "source": [
    "#Loop will be run on this platform\n",
    "range(start,stop,step)"
   ]
  },
  {
   "cell_type": "code",
   "execution_count": 13,
   "id": "2203a250",
   "metadata": {},
   "outputs": [
    {
     "name": "stdout",
     "output_type": "stream",
     "text": [
      "fizz 3\n",
      "buzz 5\n",
      "fizz 6\n",
      "fizz 9\n",
      "buzz 10\n",
      "fizz 12\n",
      "fizbuz 15\n",
      "fizz 15\n",
      "fizz 18\n",
      "buzz 20\n",
      "fizz 21\n",
      "fizz 24\n",
      "buzz 25\n",
      "fizz 27\n",
      "fizbuz 30\n",
      "fizz 30\n",
      "fizz 33\n",
      "buzz 35\n",
      "fizz 36\n",
      "fizz 39\n",
      "buzz 40\n",
      "fizz 42\n",
      "fizbuz 45\n",
      "fizz 45\n",
      "fizz 48\n",
      "buzz 50\n"
     ]
    }
   ],
   "source": [
    "\"\"\"wap to print fizz if the number is divisible by 3, buzz if the no. is divisible by 5 and fizzbuzz \n",
    "if the no is div by both in range of 1 to 50 both inclusive\"\"\"\n",
    "\n",
    "\n",
    "#n=int(input(\"enter a number\"))\n",
    "\n",
    "for i in range(1,51,1):\n",
    "    if i%3==0 and i%5==0:\n",
    "        print('fizbuz',i)\n",
    "    if i%3==0:\n",
    "         print('fizz',i)\n",
    "    elif i%5==0:\n",
    "         print('buzz',i)\n"
   ]
  },
  {
   "cell_type": "code",
   "execution_count": null,
   "id": "0a182153",
   "metadata": {},
   "outputs": [],
   "source": [
    "factor \n",
    "0=1 0 ka factor 1\n",
    "1=1 1 factor ka 1\n",
    "\n"
   ]
  },
  {
   "cell_type": "code",
   "execution_count": 1,
   "id": "b375d188",
   "metadata": {},
   "outputs": [
    {
     "name": "stdout",
     "output_type": "stream",
     "text": [
      "enter a number3\n",
      "6 factors\n"
     ]
    }
   ],
   "source": [
    "#inter the number to calculate factorial\n",
    "n=int(input(\"enter a number\"))\n",
    "c=1\n",
    "for i in range (1,n+1):\n",
    "    c=c*i\n",
    "print(c,\"factors\")\n",
    "    "
   ]
  },
  {
   "cell_type": "code",
   "execution_count": 36,
   "id": "d885402a",
   "metadata": {},
   "outputs": [
    {
     "name": "stdout",
     "output_type": "stream",
     "text": [
      "34 34\n"
     ]
    }
   ],
   "source": [
    "# swap two numbers \n"
   ]
  },
  {
   "cell_type": "code",
   "execution_count": 35,
   "id": "f25e2a07",
   "metadata": {},
   "outputs": [
    {
     "name": "stdout",
     "output_type": "stream",
     "text": [
      "0 0\n"
     ]
    }
   ],
   "source": []
  },
  {
   "cell_type": "code",
   "execution_count": 33,
   "id": "50b7d9b5",
   "metadata": {},
   "outputs": [
    {
     "name": "stdout",
     "output_type": "stream",
     "text": [
      "0  1  1  2  3  5  8  13  21  34  "
     ]
    }
   ],
   "source": [
    "# fabbonacci series\n",
    "a=0\n",
    "b=1\n",
    "z=0\n",
    "for i in range(1,11):\n",
    "    c=a\n",
    "    a=b\n",
    "    b=a+c\n",
    "    print(c,\" \",end=\"\")\n",
    "    \n",
    "   \n",
    "    "
   ]
  },
  {
   "cell_type": "code",
   "execution_count": null,
   "id": "a8ad4f72",
   "metadata": {},
   "outputs": [],
   "source": []
  }
 ],
 "metadata": {
  "kernelspec": {
   "display_name": "Python 3 (ipykernel)",
   "language": "python",
   "name": "python3"
  },
  "language_info": {
   "codemirror_mode": {
    "name": "ipython",
    "version": 3
   },
   "file_extension": ".py",
   "mimetype": "text/x-python",
   "name": "python",
   "nbconvert_exporter": "python",
   "pygments_lexer": "ipython3",
   "version": "3.9.7"
  }
 },
 "nbformat": 4,
 "nbformat_minor": 5
}
