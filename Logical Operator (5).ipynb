{
 "cells": [
  {
   "cell_type": "markdown",
   "id": "e16ea398",
   "metadata": {},
   "source": [
    "comments : code cell mei description add krni h to uske 2 method , two types of comments are there:\n",
    "        1)single line comment: #\n",
    "        2)multiple line comment \"\"\" hjjkkkd \"\""
   ]
  },
  {
   "cell_type": "code",
   "execution_count": 3,
   "id": "32746d1f",
   "metadata": {},
   "outputs": [
    {
     "data": {
      "text/plain": [
       "314.0"
      ]
     },
     "execution_count": 3,
     "metadata": {},
     "output_type": "execute_result"
    }
   ],
   "source": [
    "c=10 #computing area of circle\n",
    "\"\"\"arif is my nam hdiediuiuieeeireieire\"\"\"\n",
    "\n",
    "d=3.14\n",
    "g=d*c**2\n",
    "g"
   ]
  },
  {
   "cell_type": "code",
   "execution_count": 5,
   "id": "329833fd",
   "metadata": {},
   "outputs": [
    {
     "data": {
      "text/plain": [
       "0.6"
      ]
     },
     "execution_count": 5,
     "metadata": {},
     "output_type": "execute_result"
    }
   ],
   "source": [
    "\n",
    "t1=30/50\n",
    "t1"
   ]
  },
  {
   "cell_type": "code",
   "execution_count": 8,
   "id": "8aef54ed",
   "metadata": {},
   "outputs": [
    {
     "data": {
      "text/plain": [
       "1.0"
      ]
     },
     "execution_count": 8,
     "metadata": {},
     "output_type": "execute_result"
    }
   ],
   "source": [
    "t2=30/30\n",
    "t2"
   ]
  },
  {
   "cell_type": "code",
   "execution_count": 9,
   "id": "34e0ec11",
   "metadata": {},
   "outputs": [
    {
     "data": {
      "text/plain": [
       "0.5454545454545454"
      ]
     },
     "execution_count": 9,
     "metadata": {},
     "output_type": "execute_result"
    }
   ],
   "source": [
    "t3=30/55\n",
    "t3"
   ]
  },
  {
   "cell_type": "markdown",
   "id": "799ea6eb",
   "metadata": {},
   "source": [
    "###  Logical operators\n",
    "\n",
    "Logical operators are used on conditional statements (either True or False).\n",
    "They perform Logical AND, \n",
    "Logical OR \n",
    "Logical NOT operations."
   ]
  },
  {
   "cell_type": "code",
   "execution_count": null,
   "id": "fc2d44f9",
   "metadata": {},
   "outputs": [],
   "source": [
    " Logical AND, operation (it checks both condition , both must be true)\n",
    "    "
   ]
  },
  {
   "cell_type": "code",
   "execution_count": 10,
   "id": "9ec5b41f",
   "metadata": {},
   "outputs": [
    {
     "data": {
      "text/plain": [
       "False"
      ]
     },
     "execution_count": 10,
     "metadata": {},
     "output_type": "execute_result"
    }
   ],
   "source": [
    "a=10\n",
    "b=20\n",
    "c=5\n",
    "a>b and a==c"
   ]
  },
  {
   "cell_type": "code",
   "execution_count": null,
   "id": "fbfcca95",
   "metadata": {},
   "outputs": [],
   "source": [
    "Logical OR, operation (it checks only one condition , one can be true result will bw true )"
   ]
  },
  {
   "cell_type": "code",
   "execution_count": 11,
   "id": "867fcbae",
   "metadata": {},
   "outputs": [
    {
     "data": {
      "text/plain": [
       "True"
      ]
     },
     "execution_count": 11,
     "metadata": {},
     "output_type": "execute_result"
    }
   ],
   "source": [
    "a<c or a>c"
   ]
  },
  {
   "cell_type": "code",
   "execution_count": null,
   "id": "f8c5652d",
   "metadata": {},
   "outputs": [],
   "source": [
    "Logical NOT: (True if operand is false)\n",
    "    "
   ]
  },
  {
   "cell_type": "code",
   "execution_count": 74,
   "id": "a4a8c3ca",
   "metadata": {},
   "outputs": [
    {
     "data": {
      "text/plain": [
       "False"
      ]
     },
     "execution_count": 74,
     "metadata": {},
     "output_type": "execute_result"
    }
   ],
   "source": [
    "not a>c"
   ]
  },
  {
   "cell_type": "code",
   "execution_count": 14,
   "id": "a7bf7f06",
   "metadata": {},
   "outputs": [
    {
     "data": {
      "text/plain": [
       "False"
      ]
     },
     "execution_count": 14,
     "metadata": {},
     "output_type": "execute_result"
    }
   ],
   "source": [
    "300<230 and 120>30"
   ]
  },
  {
   "cell_type": "markdown",
   "id": "81905f9e",
   "metadata": {},
   "source": [
    "comparison operator\n",
    "\n",
    "a=100\n",
    "b=300\n",
    "c=250\n",
    "d=120\n"
   ]
  },
  {
   "cell_type": "code",
   "execution_count": 18,
   "id": "15f31e99",
   "metadata": {},
   "outputs": [
    {
     "data": {
      "text/plain": [
       "False"
      ]
     },
     "execution_count": 18,
     "metadata": {},
     "output_type": "execute_result"
    }
   ],
   "source": [
    "a>b"
   ]
  },
  {
   "cell_type": "code",
   "execution_count": 19,
   "id": "d9fbe0cc",
   "metadata": {},
   "outputs": [
    {
     "data": {
      "text/plain": [
       "True"
      ]
     },
     "execution_count": 19,
     "metadata": {},
     "output_type": "execute_result"
    }
   ],
   "source": [
    "a<=b"
   ]
  },
  {
   "cell_type": "code",
   "execution_count": 20,
   "id": "4167d164",
   "metadata": {},
   "outputs": [
    {
     "data": {
      "text/plain": [
       "False"
      ]
     },
     "execution_count": 20,
     "metadata": {},
     "output_type": "execute_result"
    }
   ],
   "source": [
    "a==c"
   ]
  },
  {
   "cell_type": "code",
   "execution_count": 76,
   "id": "14a2d87f",
   "metadata": {},
   "outputs": [
    {
     "data": {
      "text/plain": [
       "True"
      ]
     },
     "execution_count": 76,
     "metadata": {},
     "output_type": "execute_result"
    }
   ],
   "source": [
    "a!=d"
   ]
  },
  {
   "attachments": {
    "and%20or%20table-2.jpg": {
     "image/jpeg": "[encoded data removed]"
    }
   },
   "cell_type": "markdown",
   "id": "56d12ae4",
   "metadata": {},
   "source": [
    "![and%20or%20table-2.jpg](attachment:and%20or%20table-2.jpg)"
   ]
  },
  {
   "cell_type": "markdown",
   "id": "1a128646",
   "metadata": {},
   "source": [
    "Assignment Opearion:"
   ]
  },
  {
   "cell_type": "code",
   "execution_count": 24,
   "id": "8b0858f8",
   "metadata": {},
   "outputs": [
    {
     "data": {
      "text/plain": [
       "16"
      ]
     },
     "execution_count": 24,
     "metadata": {},
     "output_type": "execute_result"
    }
   ],
   "source": [
    "a=a+2\n",
    "a"
   ]
  },
  {
   "cell_type": "code",
   "execution_count": 27,
   "id": "7da79432",
   "metadata": {},
   "outputs": [
    {
     "data": {
      "text/plain": [
       "22"
      ]
     },
     "execution_count": 27,
     "metadata": {},
     "output_type": "execute_result"
    }
   ],
   "source": [
    "a+=2\n",
    "a"
   ]
  },
  {
   "cell_type": "code",
   "execution_count": 29,
   "id": "fd1cf4fb",
   "metadata": {},
   "outputs": [
    {
     "data": {
      "text/plain": [
       "-18"
      ]
     },
     "execution_count": 29,
     "metadata": {},
     "output_type": "execute_result"
    }
   ],
   "source": [
    "a-=20\n",
    "a"
   ]
  },
  {
   "cell_type": "code",
   "execution_count": 30,
   "id": "0b279003",
   "metadata": {},
   "outputs": [
    {
     "data": {
      "text/plain": [
       "-360"
      ]
     },
     "execution_count": 30,
     "metadata": {},
     "output_type": "execute_result"
    }
   ],
   "source": [
    "a*=20\n",
    "a"
   ]
  },
  {
   "cell_type": "code",
   "execution_count": 32,
   "id": "aa961e8b",
   "metadata": {},
   "outputs": [
    {
     "data": {
      "text/plain": [
       "-90.0"
      ]
     },
     "execution_count": 32,
     "metadata": {},
     "output_type": "execute_result"
    }
   ],
   "source": [
    "a/=2\n",
    "a"
   ]
  },
  {
   "cell_type": "code",
   "execution_count": 78,
   "id": "637bcb8f",
   "metadata": {},
   "outputs": [
    {
     "data": {
      "text/plain": [
       "4"
      ]
     },
     "execution_count": 78,
     "metadata": {},
     "output_type": "execute_result"
    }
   ],
   "source": [
    "a=2\n",
    "a**=2\n",
    "a"
   ]
  },
  {
   "cell_type": "code",
   "execution_count": 80,
   "id": "3f70df20",
   "metadata": {},
   "outputs": [
    {
     "data": {
      "text/plain": [
       "8"
      ]
     },
     "execution_count": 80,
     "metadata": {},
     "output_type": "execute_result"
    }
   ],
   "source": [
    "a=2\n",
    "a**=3\n",
    "a"
   ]
  },
  {
   "cell_type": "code",
   "execution_count": 81,
   "id": "8c4cb33b",
   "metadata": {},
   "outputs": [
    {
     "data": {
      "text/plain": [
       "25"
      ]
     },
     "execution_count": 81,
     "metadata": {},
     "output_type": "execute_result"
    }
   ],
   "source": [
    "a=5\n",
    "a**=2\n",
    "a"
   ]
  },
  {
   "cell_type": "code",
   "execution_count": null,
   "id": "87e2ff4f",
   "metadata": {},
   "outputs": [],
   "source": [
    "identity operation:  is and is not are the identity operators in Python. \n",
    "    They are used to check if two values (or variables) are located on the same part of the memory.\n",
    "    is "
   ]
  },
  {
   "cell_type": "code",
   "execution_count": 83,
   "id": "cadae896",
   "metadata": {},
   "outputs": [],
   "source": [
    "a=10\n",
    "b=20\n"
   ]
  },
  {
   "cell_type": "code",
   "execution_count": 84,
   "id": "7cd78df0",
   "metadata": {},
   "outputs": [
    {
     "data": {
      "text/plain": [
       "2348386773584"
      ]
     },
     "execution_count": 84,
     "metadata": {},
     "output_type": "execute_result"
    }
   ],
   "source": [
    "id(a)"
   ]
  },
  {
   "cell_type": "code",
   "execution_count": 85,
   "id": "a3bfc94a",
   "metadata": {},
   "outputs": [
    {
     "data": {
      "text/plain": [
       "2348386773904"
      ]
     },
     "execution_count": 85,
     "metadata": {},
     "output_type": "execute_result"
    }
   ],
   "source": [
    "id(b)"
   ]
  },
  {
   "cell_type": "code",
   "execution_count": 86,
   "id": "1558c86f",
   "metadata": {},
   "outputs": [
    {
     "data": {
      "text/plain": [
       "False"
      ]
     },
     "execution_count": 86,
     "metadata": {},
     "output_type": "execute_result"
    }
   ],
   "source": [
    "a is b"
   ]
  },
  {
   "cell_type": "code",
   "execution_count": 90,
   "id": "021d6b0f",
   "metadata": {},
   "outputs": [],
   "source": [
    "b=10"
   ]
  },
  {
   "cell_type": "code",
   "execution_count": 93,
   "id": "bb2116c7",
   "metadata": {},
   "outputs": [
    {
     "data": {
      "text/plain": [
       "2348386773584"
      ]
     },
     "execution_count": 93,
     "metadata": {},
     "output_type": "execute_result"
    }
   ],
   "source": [
    "id(b)"
   ]
  },
  {
   "cell_type": "code",
   "execution_count": 95,
   "id": "2c904546",
   "metadata": {},
   "outputs": [],
   "source": [
    "a=10\n",
    "b=20"
   ]
  },
  {
   "cell_type": "code",
   "execution_count": 96,
   "id": "f5d5985b",
   "metadata": {},
   "outputs": [
    {
     "data": {
      "text/plain": [
       "True"
      ]
     },
     "execution_count": 96,
     "metadata": {},
     "output_type": "execute_result"
    }
   ],
   "source": [
    "a is not b"
   ]
  },
  {
   "cell_type": "code",
   "execution_count": null,
   "id": "0b999500",
   "metadata": {},
   "outputs": [],
   "source": [
    "membership operations: "
   ]
  },
  {
   "cell_type": "code",
   "execution_count": 49,
   "id": "34dadb86",
   "metadata": {},
   "outputs": [
    {
     "data": {
      "text/plain": [
       "True"
      ]
     },
     "execution_count": 49,
     "metadata": {},
     "output_type": "execute_result"
    }
   ],
   "source": [
    "\"aman\"\n",
    "\"a\" in \"aman\""
   ]
  },
  {
   "cell_type": "code",
   "execution_count": 51,
   "id": "616f4f6a",
   "metadata": {},
   "outputs": [
    {
     "data": {
      "text/plain": [
       "False"
      ]
     },
     "execution_count": 51,
     "metadata": {},
     "output_type": "execute_result"
    }
   ],
   "source": [
    "list=[1,45,858,99]\n",
    "454 in list"
   ]
  },
  {
   "cell_type": "code",
   "execution_count": 52,
   "id": "aae24db7",
   "metadata": {},
   "outputs": [
    {
     "data": {
      "text/plain": [
       "True"
      ]
     },
     "execution_count": 52,
     "metadata": {},
     "output_type": "execute_result"
    }
   ],
   "source": [
    "list=[1,45,858,99]\n",
    "454 not in list"
   ]
  },
  {
   "cell_type": "code",
   "execution_count": 62,
   "id": "3e0d7e1d",
   "metadata": {},
   "outputs": [
    {
     "name": "stdout",
     "output_type": "stream",
     "text": [
      "enter a value34\n"
     ]
    }
   ],
   "source": [
    "a=int(input(\"enter a value\"))"
   ]
  },
  {
   "cell_type": "code",
   "execution_count": 63,
   "id": "4eb51588",
   "metadata": {},
   "outputs": [
    {
     "data": {
      "text/plain": [
       "34"
      ]
     },
     "execution_count": 63,
     "metadata": {},
     "output_type": "execute_result"
    }
   ],
   "source": [
    "a"
   ]
  },
  {
   "cell_type": "code",
   "execution_count": 65,
   "id": "d319d1b6",
   "metadata": {},
   "outputs": [
    {
     "name": "stdout",
     "output_type": "stream",
     "text": [
      "enter  the wieght67.990\n"
     ]
    },
    {
     "data": {
      "text/plain": [
       "67.99"
      ]
     },
     "execution_count": 65,
     "metadata": {},
     "output_type": "execute_result"
    }
   ],
   "source": [
    "w= float(input(\"enter  the wieght\"))\n",
    "w"
   ]
  },
  {
   "cell_type": "code",
   "execution_count": null,
   "id": "b6fdb5c5",
   "metadata": {},
   "outputs": [],
   "source": [
    "wap to take input from the user regarding his age and u have to give me his sons age which half of his fathers age"
   ]
  },
  {
   "cell_type": "code",
   "execution_count": 98,
   "id": "7924721c",
   "metadata": {},
   "outputs": [
    {
     "name": "stdout",
     "output_type": "stream",
     "text": [
      "age: dalo\n",
      "46\n"
     ]
    }
   ],
   "source": [
    "father_age=int(input(\"age: dalo\\n\"))"
   ]
  },
  {
   "cell_type": "code",
   "execution_count": 101,
   "id": "00c22739",
   "metadata": {},
   "outputs": [],
   "source": [
    "son_age=father_age/2"
   ]
  },
  {
   "cell_type": "code",
   "execution_count": 102,
   "id": "01402c3a",
   "metadata": {},
   "outputs": [
    {
     "data": {
      "text/plain": [
       "23.0"
      ]
     },
     "execution_count": 102,
     "metadata": {},
     "output_type": "execute_result"
    }
   ],
   "source": [
    "son_age"
   ]
  },
  {
   "cell_type": "code",
   "execution_count": null,
   "id": "a7dc6b24",
   "metadata": {},
   "outputs": [],
   "source": []
  }
 ],
 "metadata": {
  "kernelspec": {
   "display_name": "Python 3 (ipykernel)",
   "language": "python",
   "name": "python3"
  },
  "language_info": {
   "codemirror_mode": {
    "name": "ipython",
    "version": 3
   },
   "file_extension": ".py",
   "mimetype": "text/x-python",
   "name": "python",
   "nbconvert_exporter": "python",
   "pygments_lexer": "ipython3",
   "version": "3.9.7"
  }
 },
 "nbformat": 4,
 "nbformat_minor": 5
}
