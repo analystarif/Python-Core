{
 "cells": [
  {
   "cell_type": "code",
   "execution_count": null,
   "id": "636084e5",
   "metadata": {},
   "outputs": [],
   "source": [
    "nested if else"
   ]
  },
  {
   "cell_type": "code",
   "execution_count": 1,
   "id": "81b23163",
   "metadata": {},
   "outputs": [
    {
     "name": "stdout",
     "output_type": "stream",
     "text": [
      "enter a temperaturesunny\n",
      "entr the temperature47\n",
      "too hot\n"
     ]
    }
   ],
   "source": [
    "w=input(\"enter a temperature\")\n",
    "if w==\"sunny\":\n",
    "    temp=int(input(\"entr the temperature\"))\n",
    "    if temp<45:\n",
    "        print(\"play\")\n",
    "    else:\n",
    "        print(\"too hot\")"
   ]
  },
  {
   "cell_type": "code",
   "execution_count": 7,
   "id": "6203b9a3",
   "metadata": {},
   "outputs": [
    {
     "ename": "TypeError",
     "evalue": "'str' object is not callable",
     "output_type": "error",
     "traceback": [
      "\u001b[1;31m---------------------------------------------------------------------------\u001b[0m",
      "\u001b[1;31mTypeError\u001b[0m                                 Traceback (most recent call last)",
      "\u001b[1;32m~\\AppData\\Local\\Temp/ipykernel_12308/3960418160.py\u001b[0m in \u001b[0;36m<module>\u001b[1;34m\u001b[0m\n\u001b[1;32m----> 1\u001b[1;33m \u001b[0mw\u001b[0m\u001b[1;33m=\u001b[0m\u001b[0minput\u001b[0m\u001b[1;33m(\u001b[0m\u001b[1;34m\"enter the whether\"\u001b[0m\u001b[1;33m)\u001b[0m\u001b[1;33m\u001b[0m\u001b[1;33m\u001b[0m\u001b[0m\n\u001b[0m\u001b[0;32m      2\u001b[0m \u001b[1;32mif\u001b[0m \u001b[0mw\u001b[0m\u001b[1;33m==\u001b[0m\u001b[1;34m\"humid\"\u001b[0m\u001b[1;33m:\u001b[0m\u001b[1;33m\u001b[0m\u001b[1;33m\u001b[0m\u001b[0m\n\u001b[0;32m      3\u001b[0m     \u001b[0mtemp\u001b[0m\u001b[1;33m=\u001b[0m\u001b[0mint\u001b[0m\u001b[1;33m(\u001b[0m\u001b[0minput\u001b[0m\u001b[1;33m(\u001b[0m\u001b[1;34m\"enter a temp\"\u001b[0m\u001b[1;33m)\u001b[0m\u001b[1;33m)\u001b[0m\u001b[1;33m\u001b[0m\u001b[1;33m\u001b[0m\u001b[0m\n",
      "\u001b[1;31mTypeError\u001b[0m: 'str' object is not callable"
     ]
    }
   ],
   "source": [
    "w=input(\"enter the whether\")\n",
    "if w==\"humid\":\n",
    "    temp=int(input(\"enter a temp\"))"
   ]
  },
  {
   "cell_type": "code",
   "execution_count": 8,
   "id": "21f3dc56",
   "metadata": {},
   "outputs": [
    {
     "ename": "TypeError",
     "evalue": "'str' object is not callable",
     "output_type": "error",
     "traceback": [
      "\u001b[1;31m---------------------------------------------------------------------------\u001b[0m",
      "\u001b[1;31mTypeError\u001b[0m                                 Traceback (most recent call last)",
      "\u001b[1;32m~\\AppData\\Local\\Temp/ipykernel_12308/1416623170.py\u001b[0m in \u001b[0;36m<module>\u001b[1;34m\u001b[0m\n\u001b[1;32m----> 1\u001b[1;33m \u001b[0minput\u001b[0m\u001b[1;33m(\u001b[0m\u001b[1;34m\"enter a numbr\"\u001b[0m\u001b[1;33m)\u001b[0m\u001b[1;33m\u001b[0m\u001b[1;33m\u001b[0m\u001b[0m\n\u001b[0m",
      "\u001b[1;31mTypeError\u001b[0m: 'str' object is not callable"
     ]
    }
   ],
   "source": [
    "input(\"enter a numbr\")"
   ]
  },
  {
   "cell_type": "code",
   "execution_count": 14,
   "id": "9260e287",
   "metadata": {},
   "outputs": [
    {
     "ename": "TypeError",
     "evalue": "'str' object is not callable",
     "output_type": "error",
     "traceback": [
      "\u001b[1;31m---------------------------------------------------------------------------\u001b[0m",
      "\u001b[1;31mTypeError\u001b[0m                                 Traceback (most recent call last)",
      "\u001b[1;32m~\\AppData\\Local\\Temp/ipykernel_12308/1785194676.py\u001b[0m in \u001b[0;36m<module>\u001b[1;34m\u001b[0m\n\u001b[1;32m----> 1\u001b[1;33m \u001b[0mw\u001b[0m\u001b[1;33m=\u001b[0m\u001b[0minput\u001b[0m\u001b[1;33m(\u001b[0m\u001b[1;34m\"enter a valu\"\u001b[0m\u001b[1;33m)\u001b[0m\u001b[1;33m\u001b[0m\u001b[1;33m\u001b[0m\u001b[0m\n\u001b[0m",
      "\u001b[1;31mTypeError\u001b[0m: 'str' object is not callable"
     ]
    }
   ],
   "source": [
    "w=input(\"enter a valu\")"
   ]
  },
  {
   "cell_type": "code",
   "execution_count": 17,
   "id": "3ab3bd02",
   "metadata": {},
   "outputs": [
    {
     "ename": "TypeError",
     "evalue": "'str' object is not callable",
     "output_type": "error",
     "traceback": [
      "\u001b[1;31m---------------------------------------------------------------------------\u001b[0m",
      "\u001b[1;31mTypeError\u001b[0m                                 Traceback (most recent call last)",
      "\u001b[1;32m~\\AppData\\Local\\Temp/ipykernel_12308/2011322182.py\u001b[0m in \u001b[0;36m<module>\u001b[1;34m\u001b[0m\n\u001b[1;32m----> 1\u001b[1;33m \u001b[0mw\u001b[0m\u001b[1;33m=\u001b[0m\u001b[0minput\u001b[0m\u001b[1;33m(\u001b[0m\u001b[1;34m\"enter a number\"\u001b[0m\u001b[1;33m)\u001b[0m\u001b[1;33m\u001b[0m\u001b[1;33m\u001b[0m\u001b[0m\n\u001b[0m",
      "\u001b[1;31mTypeError\u001b[0m: 'str' object is not callable"
     ]
    }
   ],
   "source": [
    "w=input(\"enter a number\")"
   ]
  },
  {
   "cell_type": "code",
   "execution_count": null,
   "id": "a29588ea",
   "metadata": {},
   "outputs": [],
   "source": [
    "\"\"\" \n",
    "Assignment : 2\n",
    "In the tutorial, we talked about deciding whether we're prepared for the weather. \n",
    "I said that I'm safe from today's weather if...\n",
    "\n",
    "I have an umbrella...\n",
    "or if the rain isn't too heavy and I have a hood...\n",
    "otherwise, I'm still fine unless it's raining and it's a workday\n",
    "\n",
    "\"\"\"\n",
    "\n",
    "\"\"\"\"w=input(\"enter the rainy condition\")\n",
    "if w==\"rainy\":\n",
    "    print(\" I have a umbrella\")\n",
    "elif w==\"not heavy rainy\":\n",
    "    print(\"i have a hood rainy is not heavy\")\n",
    "else :\n",
    "    print(\"I'm still fine unless it's raining and it's a workday\")\"\"\"\n",
    "    \n",
    "    \n",
    "rain_type= input(\"enter the type of rain heavy or slow\")\n",
    "#umb= input(\"yes or no\")\n",
    "#wd=input(\"yes or no\")\n",
    "if wd==\"yes\":\n",
    "    if rain_type==\"heavey\":\n",
    "        if umb==\"yes\":\n",
    "            print(\"safe\")\n",
    "        else:\n",
    "            print(\"not safe\")\n",
    "    elif rain_type==\"slow\":\n",
    "        if hood==\"yes\":\n",
    "            print(\"safe\")\n",
    "else: print(\"stay back\")"
   ]
  },
  {
   "cell_type": "code",
   "execution_count": null,
   "id": "aeedd53b",
   "metadata": {},
   "outputs": [],
   "source": []
  }
 ],
 "metadata": {
  "kernelspec": {
   "display_name": "Python 3 (ipykernel)",
   "language": "python",
   "name": "python3"
  },
  "language_info": {
   "codemirror_mode": {
    "name": "ipython",
    "version": 3
   },
   "file_extension": ".py",
   "mimetype": "text/x-python",
   "name": "python",
   "nbconvert_exporter": "python",
   "pygments_lexer": "ipython3",
   "version": "3.9.7"
  }
 },
 "nbformat": 4,
 "nbformat_minor": 5
}
