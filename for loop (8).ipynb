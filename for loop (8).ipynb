{
 "cells": [
  {
   "cell_type": "code",
   "execution_count": null,
   "id": "91c98f6e",
   "metadata": {},
   "outputs": [],
   "source": [
    "Wap to check the students eligibilty for sports captain:\n",
    "    1)both males and females should be considered if the followed the condition\n",
    "     1. he or she should be students of class 9 and above.\n",
    "        2. atleast 2 achievement in the feild of sports\n",
    "        3. have grade in last class greatr than B+\n",
    "        4. should have exp of leading a team of students\n",
    "        5. he/she should be staying somewhere near school only , and shhould check on condition of kits , \n",
    "        [playground and decide teams for various others sports \n",
    "        "
   ]
  },
  {
   "cell_type": "code",
   "execution_count": null,
   "id": "87169ded",
   "metadata": {},
   "outputs": [
    {
     "name": "stdout",
     "output_type": "stream",
     "text": [
      "enter the class10\n"
     ]
    }
   ],
   "source": [
    "clas=int(input(\"enter the class\"))\n",
    "acheive=int(input(\"atleast 2 acheivement\"))\n",
    "grade= input(\"please enter grade must be greater than B+\")\n",
    "exp=input(\" experience yes or no\")\n",
    "home=input(\"Home is near yes or not\")\n",
    "#check=input(\"Yes or No\")\n",
    "\n",
    "\n",
    "if clas>=9 and acheive==\"2\" and (grade==\"A\" or grade== \"A+\") and exp==\"yes\" and home==\"yes\" :#and check==\"yes\":\n",
    "    \n",
    "    print(\"captain\")\n",
    "else:\n",
    "    print(\"not eligible\")"
   ]
  },
  {
   "cell_type": "code",
   "execution_count": 5,
   "id": "e8d07416",
   "metadata": {},
   "outputs": [
    {
     "ename": "SyntaxError",
     "evalue": "invalid syntax (Temp/ipykernel_21444/3393001618.py, line 1)",
     "output_type": "error",
     "traceback": [
      "\u001b[1;36m  File \u001b[1;32m\"C:\\Users\\91790\\AppData\\Local\\Temp/ipykernel_21444/3393001618.py\"\u001b[1;36m, line \u001b[1;32m1\u001b[0m\n\u001b[1;33m    LOOPS:\u001b[0m\n\u001b[1;37m          ^\u001b[0m\n\u001b[1;31mSyntaxError\u001b[0m\u001b[1;31m:\u001b[0m invalid syntax\n"
     ]
    }
   ],
   "source": [
    "LOOPS:\n",
    "    for and while are keyword\n"
   ]
  },
  {
   "cell_type": "code",
   "execution_count": null,
   "id": "7471179d",
   "metadata": {},
   "outputs": [],
   "source": [
    "for loop:\n",
    "    1) start and stop\n",
    "    range (start, stop , step)"
   ]
  },
  {
   "cell_type": "code",
   "execution_count": 1,
   "id": "76912caa",
   "metadata": {},
   "outputs": [
    {
     "name": "stdout",
     "output_type": "stream",
     "text": [
      "1\n",
      "2\n",
      "3\n",
      "4\n",
      "5\n"
     ]
    }
   ],
   "source": [
    "for i in range(1,6): #it goes 1 to (n-1)or 6-1\n",
    "    print(i)"
   ]
  },
  {
   "cell_type": "code",
   "execution_count": 2,
   "id": "6e7ab67c",
   "metadata": {},
   "outputs": [
    {
     "ename": "TypeError",
     "evalue": "'str' object cannot be interpreted as an integer",
     "output_type": "error",
     "traceback": [
      "\u001b[1;31m---------------------------------------------------------------------------\u001b[0m",
      "\u001b[1;31mTypeError\u001b[0m                                 Traceback (most recent call last)",
      "\u001b[1;32m~\\AppData\\Local\\Temp/ipykernel_7560/1698998593.py\u001b[0m in \u001b[0;36m<module>\u001b[1;34m\u001b[0m\n\u001b[1;32m----> 1\u001b[1;33m \u001b[1;32mfor\u001b[0m \u001b[0marif\u001b[0m \u001b[1;32min\u001b[0m \u001b[0mrange\u001b[0m\u001b[1;33m(\u001b[0m\u001b[1;34m\"arif\"\u001b[0m\u001b[1;33m)\u001b[0m\u001b[1;33m:\u001b[0m\u001b[1;33m\u001b[0m\u001b[1;33m\u001b[0m\u001b[0m\n\u001b[0m\u001b[0;32m      2\u001b[0m     \u001b[0mprint\u001b[0m\u001b[1;33m(\u001b[0m\u001b[0marif\u001b[0m\u001b[1;33m)\u001b[0m\u001b[1;33m\u001b[0m\u001b[1;33m\u001b[0m\u001b[0m\n",
      "\u001b[1;31mTypeError\u001b[0m: 'str' object cannot be interpreted as an integer"
     ]
    }
   ],
   "source": [
    "for arif in range(\"arif\"):\n",
    "    print(arif)"
   ]
  },
  {
   "cell_type": "code",
   "execution_count": 22,
   "id": "0b5c80cc",
   "metadata": {},
   "outputs": [
    {
     "name": "stdout",
     "output_type": "stream",
     "text": [
      "6\n",
      "5\n",
      "4\n",
      "3\n"
     ]
    }
   ],
   "source": [
    "for k in range(6,2,-1):\n",
    "    print(k)\n",
    "    "
   ]
  },
  {
   "cell_type": "code",
   "execution_count": 26,
   "id": "0fae8ad0",
   "metadata": {},
   "outputs": [
    {
     "name": "stdout",
     "output_type": "stream",
     "text": [
      "5\n",
      "4\n",
      "3\n",
      "2\n",
      "1\n"
     ]
    }
   ],
   "source": [
    "for i in range(5,0,-1):\n",
    "    print(i)"
   ]
  },
  {
   "cell_type": "code",
   "execution_count": 27,
   "id": "a73e9932",
   "metadata": {},
   "outputs": [
    {
     "name": "stdout",
     "output_type": "stream",
     "text": [
      "5\n",
      "10\n",
      "15\n",
      "20\n",
      "25\n",
      "30\n",
      "35\n",
      "40\n",
      "45\n",
      "50\n"
     ]
    }
   ],
   "source": [
    " for k in range(5,51,5):\n",
    "        print(k)"
   ]
  },
  {
   "cell_type": "code",
   "execution_count": 21,
   "id": "03df1a0b",
   "metadata": {},
   "outputs": [
    {
     "name": "stdout",
     "output_type": "stream",
     "text": [
      "enter numbber3\n"
     ]
    },
    {
     "ename": "TypeError",
     "evalue": "range expected at least 1 argument, got 0",
     "output_type": "error",
     "traceback": [
      "\u001b[1;31m---------------------------------------------------------------------------\u001b[0m",
      "\u001b[1;31mTypeError\u001b[0m                                 Traceback (most recent call last)",
      "\u001b[1;32m~\\AppData\\Local\\Temp/ipykernel_10828/630488122.py\u001b[0m in \u001b[0;36m<module>\u001b[1;34m\u001b[0m\n\u001b[0;32m      1\u001b[0m \u001b[0mt\u001b[0m\u001b[1;33m=\u001b[0m\u001b[0mint\u001b[0m\u001b[1;33m(\u001b[0m\u001b[0minput\u001b[0m\u001b[1;33m(\u001b[0m\u001b[1;34m\"enter numbber\"\u001b[0m\u001b[1;33m)\u001b[0m\u001b[1;33m)\u001b[0m\u001b[1;33m\u001b[0m\u001b[1;33m\u001b[0m\u001b[0m\n\u001b[0;32m      2\u001b[0m \u001b[1;31m#r=int(input(\"enter range\"))\u001b[0m\u001b[1;33m\u001b[0m\u001b[1;33m\u001b[0m\u001b[0m\n\u001b[1;32m----> 3\u001b[1;33m \u001b[1;32mfor\u001b[0m \u001b[0mi\u001b[0m \u001b[1;32min\u001b[0m \u001b[0mrange\u001b[0m\u001b[1;33m(\u001b[0m\u001b[1;33m)\u001b[0m\u001b[1;33m:\u001b[0m\u001b[1;33m\u001b[0m\u001b[1;33m\u001b[0m\u001b[0m\n\u001b[0m\u001b[0;32m      4\u001b[0m     \u001b[0mprint\u001b[0m\u001b[1;33m(\u001b[0m\u001b[0mt\u001b[0m\u001b[1;33m)\u001b[0m\u001b[1;33m\u001b[0m\u001b[1;33m\u001b[0m\u001b[0m\n",
      "\u001b[1;31mTypeError\u001b[0m: range expected at least 1 argument, got 0"
     ]
    }
   ],
   "source": [
    "t=int(input(\"enter numbber\"))\n",
    "#r=int(input(\"enter range\"))\n",
    "for i in range():\n",
    "    print(t)"
   ]
  },
  {
   "cell_type": "code",
   "execution_count": 8,
   "id": "8ed8576d",
   "metadata": {},
   "outputs": [
    {
     "name": "stdout",
     "output_type": "stream",
     "text": [
      "enter number :4\n",
      "4 8 12 16 20 24 28 32 36 40 "
     ]
    }
   ],
   "source": [
    "n=int(input(\"enter number :\"))\n",
    "for i in range(1,11):\n",
    "    print(n*i, end=\" \")"
   ]
  },
  {
   "cell_type": "code",
   "execution_count": null,
   "id": "5ab0cd2c",
   "metadata": {},
   "outputs": [],
   "source": [
    " Assignment \n",
    "# print a table in reverse\n",
    "#. sqAare of numb from 1 to 20"
   ]
  },
  {
   "cell_type": "code",
   "execution_count": 14,
   "id": "508e2410",
   "metadata": {},
   "outputs": [
    {
     "name": "stdout",
     "output_type": "stream",
     "text": [
      "enter a number : 7\n",
      "70\n",
      "63\n",
      "56\n",
      "49\n",
      "42\n",
      "35\n",
      "28\n",
      "21\n",
      "14\n",
      "7\n"
     ]
    }
   ],
   "source": [
    "n=int(input(\"enter a number : for table\"))\n",
    "for i in range(10,0,-1):\n",
    "    print(n*i)"
   ]
  },
  {
   "cell_type": "code",
   "execution_count": 20,
   "id": "7499b5b8",
   "metadata": {},
   "outputs": [
    {
     "name": "stdout",
     "output_type": "stream",
     "text": [
      "1\n",
      "4\n",
      "9\n",
      "16\n",
      "25\n",
      "36\n",
      "49\n",
      "64\n",
      "81\n",
      "100\n",
      "121\n",
      "144\n",
      "169\n",
      "196\n",
      "225\n",
      "256\n",
      "289\n",
      "324\n",
      "361\n",
      "400\n"
     ]
    }
   ],
   "source": [
    "# print the sqaure from 1 to 20\n",
    "for i in range(1,21):\n",
    "    print(i*i)"
   ]
  },
  {
   "cell_type": "code",
   "execution_count": 25,
   "id": "ca2890c9",
   "metadata": {},
   "outputs": [
    {
     "name": "stdout",
     "output_type": "stream",
     "text": [
      "A\n",
      "R\n",
      "I\n",
      "F\n"
     ]
    }
   ],
   "source": [
    "x==\"ARIF\"\n",
    "for i in x:\n",
    "    print(i)"
   ]
  },
  {
   "cell_type": "code",
   "execution_count": 28,
   "id": "a0b56080",
   "metadata": {},
   "outputs": [
    {
     "name": "stdout",
     "output_type": "stream",
     "text": [
      "68.9hu108"
     ]
    }
   ],
   "source": [
    "x=[68.9,\"hu\",108]\n",
    "for i in x:\n",
    "    print(i)\n",
    "    "
   ]
  },
  {
   "cell_type": "code",
   "execution_count": 30,
   "id": "a5c81085",
   "metadata": {},
   "outputs": [
    {
     "name": "stdout",
     "output_type": "stream",
     "text": [
      "1\n",
      "2\n",
      "3\n",
      "4\n",
      "6\n",
      "7\n",
      "8\n",
      "9\n",
      "11\n",
      "12\n",
      "13\n",
      "14\n",
      "16\n",
      "17\n",
      "18\n",
      "19\n"
     ]
    }
   ],
   "source": [
    "for i in range(1,21):\n",
    "    if i%5!=0:\n",
    "        print(i)"
   ]
  },
  {
   "cell_type": "code",
   "execution_count": null,
   "id": "2b400b79",
   "metadata": {},
   "outputs": [],
   "source": [
    "# While LOOP"
   ]
  },
  {
   "cell_type": "code",
   "execution_count": 13,
   "id": "e50dec86",
   "metadata": {},
   "outputs": [
    {
     "name": "stdout",
     "output_type": "stream",
     "text": [
      "hy 1\n",
      "hy 2\n",
      "hy 3\n",
      "hy 4\n",
      "hy 5\n"
     ]
    }
   ],
   "source": [
    "i=1\n",
    "while i<=5:\n",
    "    print(\"hy\",i)\n",
    "    i=i+1"
   ]
  },
  {
   "cell_type": "code",
   "execution_count": 12,
   "id": "96ee59e2",
   "metadata": {},
   "outputs": [
    {
     "name": "stdout",
     "output_type": "stream",
     "text": [
      "hy 5\n",
      "hy 4\n",
      "hy 3\n",
      "hy 2\n",
      "hy 1\n"
     ]
    }
   ],
   "source": [
    "i=5\n",
    "while i>=1:\n",
    "    print(\"hy\",i)\n",
    "    i=i-1"
   ]
  },
  {
   "cell_type": "code",
   "execution_count": 15,
   "id": "fd87bc97",
   "metadata": {},
   "outputs": [
    {
     "name": "stdout",
     "output_type": "stream",
     "text": [
      "2\n",
      "4\n",
      "6\n",
      "8\n",
      "10\n",
      "12\n",
      "14\n",
      "16\n",
      "18\n",
      "20\n"
     ]
    }
   ],
   "source": [
    "i=1\n",
    "while i<=10:\n",
    "    print(2*i)\n",
    "    i=i+1"
   ]
  },
  {
   "cell_type": "code",
   "execution_count": 21,
   "id": "c5a31c75",
   "metadata": {},
   "outputs": [
    {
     "name": "stdout",
     "output_type": "stream",
     "text": [
      "arifalamalamalamalam\n",
      "arifalamalamalamalam\n",
      "arifalamalamalamalam\n",
      "arifalamalamalamalam\n",
      "arifalamalamalamalam\n"
     ]
    }
   ],
   "source": [
    "i=1\n",
    "while i<=5:\n",
    "    print(\"arif\",end=\"\")\n",
    "    j=1\n",
    "\n",
    "    while j<=4:\n",
    "        print('alam',end=\"\")\n",
    "        j=j+1\n",
    "        \n",
    "    i=i+1\n",
    "    print ()"
   ]
  },
  {
   "cell_type": "code",
   "execution_count": 23,
   "id": "b4bb2007",
   "metadata": {},
   "outputs": [
    {
     "name": "stdout",
     "output_type": "stream",
     "text": [
      "#####\n",
      "#####\n",
      "#####\n",
      "#####\n"
     ]
    }
   ],
   "source": [
    "for i in range(4):\n",
    "    print(\"#\",end=\"\")\n",
    "    for i in range (4):\n",
    "        print(\"#\", end=\"\")\n",
    "        \n",
    "    print()   "
   ]
  },
  {
   "cell_type": "code",
   "execution_count": 25,
   "id": "52930190",
   "metadata": {},
   "outputs": [
    {
     "name": "stdout",
     "output_type": "stream",
     "text": [
      "#\n",
      "##\n",
      "###\n",
      "####\n",
      "#####\n"
     ]
    }
   ],
   "source": [
    "for i in range(5):\n",
    "    print(\"#\",end=\"\")\n",
    "    for j in range(i):\n",
    "        print(\"#\",end=\"\")\n",
    "    \n",
    "    print()"
   ]
  },
  {
   "cell_type": "code",
   "execution_count": 26,
   "id": "e52bec2c",
   "metadata": {
    "scrolled": true
   },
   "outputs": [
    {
     "name": "stdout",
     "output_type": "stream",
     "text": [
      "1\n",
      "4\n",
      "27\n",
      "16\n",
      "125\n",
      "36\n",
      "343\n",
      "64\n",
      "729\n",
      "100\n",
      "1331\n",
      "144\n",
      "2197\n",
      "196\n",
      "3375\n",
      "256\n",
      "4913\n",
      "324\n",
      "6859\n",
      "400\n"
     ]
    }
   ],
   "source": [
    "#in the range 1 -20 if even then print sqare and if odd then print cube\n",
    "\n",
    "for i in range(1,21):\n",
    "    if i%2==0:\n",
    "        print(i**2)\n",
    "    else:\n",
    "        print(i**3)\n",
    "        "
   ]
  },
  {
   "cell_type": "code",
   "execution_count": 34,
   "id": "2adb8c2e",
   "metadata": {},
   "outputs": [
    {
     "name": "stdout",
     "output_type": "stream",
     "text": [
      "enter a num12\n",
      "1\n",
      "2\n",
      "3\n",
      "4\n",
      "6\n",
      "12\n"
     ]
    }
   ],
   "source": [
    "# wap to print all the factors of enter by the user\n",
    "\n",
    "n=int(input(\"enter a num\"))\n",
    "for i in range(1,n+1):\n",
    "    if n%i==0:\n",
    "        print(i)"
   ]
  },
  {
   "cell_type": "code",
   "execution_count": 39,
   "id": "57e08d77",
   "metadata": {},
   "outputs": [
    {
     "name": "stdout",
     "output_type": "stream",
     "text": [
      "8\n",
      "2\n",
      "3\n",
      "9\n"
     ]
    }
   ],
   "source": [
    "l=[8,2,3,9]\n",
    "for i in l:\n",
    "    print(i)"
   ]
  },
  {
   "cell_type": "code",
   "execution_count": 44,
   "id": "f951a994",
   "metadata": {},
   "outputs": [
    {
     "name": "stdout",
     "output_type": "stream",
     "text": [
      "7\n"
     ]
    }
   ],
   "source": [
    "#how we can print the number of loops in for loop\n",
    "\n",
    "c=0\n",
    "l=[12,34,56,78,34,11,89]\n",
    "for i in l:\n",
    "    c=c+1\n",
    "print(c)"
   ]
  },
  {
   "cell_type": "code",
   "execution_count": 58,
   "id": "b1c463c5",
   "metadata": {},
   "outputs": [
    {
     "name": "stdout",
     "output_type": "stream",
     "text": [
      "314\n"
     ]
    }
   ],
   "source": [
    "#how to sum list by loop\n",
    "l=[12,34,56,78,34,11,89]\n",
    "s=0\n",
    "for i in l:\n",
    "    s=s+i\n",
    "print(s)"
   ]
  },
  {
   "cell_type": "code",
   "execution_count": 60,
   "id": "f72dcf4c",
   "metadata": {},
   "outputs": [
    {
     "ename": "TypeError",
     "evalue": "'int' object is not callable",
     "output_type": "error",
     "traceback": [
      "\u001b[1;31m---------------------------------------------------------------------------\u001b[0m",
      "\u001b[1;31mTypeError\u001b[0m                                 Traceback (most recent call last)",
      "\u001b[1;32m~\\AppData\\Local\\Temp/ipykernel_18036/402837985.py\u001b[0m in \u001b[0;36m<module>\u001b[1;34m\u001b[0m\n\u001b[1;32m----> 1\u001b[1;33m \u001b[0msum\u001b[0m\u001b[1;33m(\u001b[0m\u001b[0ms\u001b[0m\u001b[1;33m)\u001b[0m\u001b[1;33m\u001b[0m\u001b[1;33m\u001b[0m\u001b[0m\n\u001b[0m",
      "\u001b[1;31mTypeError\u001b[0m: 'int' object is not callable"
     ]
    }
   ],
   "source": [
    "sum(s)"
   ]
  },
  {
   "cell_type": "code",
   "execution_count": 62,
   "id": "2c62becc",
   "metadata": {},
   "outputs": [
    {
     "name": "stdout",
     "output_type": "stream",
     "text": [
      "madrid"
     ]
    }
   ],
   "source": [
    "s=\"madrid\"\n",
    "for i in s:\n",
    "    print(i,end=\"\")"
   ]
  },
  {
   "cell_type": "code",
   "execution_count": null,
   "id": "f9dd3b23",
   "metadata": {},
   "outputs": [],
   "source": [
    "# wap to find vowels and consonants in a given string:\n",
    "s= \"the cat is eating mice \""
   ]
  },
  {
   "cell_type": "code",
   "execution_count": 75,
   "id": "22c6bcbb",
   "metadata": {},
   "outputs": [
    {
     "name": "stdout",
     "output_type": "stream",
     "text": [
      "t constant\n",
      "h constant\n",
      "e  vowels\n",
      "c constant\n",
      "a  vowels\n",
      "t constant\n",
      "i  vowels\n",
      "s constant\n",
      "e  vowels\n",
      "a  vowels\n",
      "t constant\n",
      "i  vowels\n",
      "n constant\n",
      "g constant\n",
      "m constant\n",
      "i  vowels\n",
      "c constant\n",
      "e  vowels\n"
     ]
    }
   ],
   "source": [
    "s= \"the cat is eating mice\"\n",
    "for i in s:\n",
    "    if i=='a' or i=='e' or i=='i' or i=='o' or i=='u':\n",
    "        print(i,\" vowels\")\n",
    "    elif i!=\" \":\n",
    "        print(i, 'constant')"
   ]
  },
  {
   "cell_type": "code",
   "execution_count": 84,
   "id": "3acff3b8",
   "metadata": {},
   "outputs": [
    {
     "name": "stdout",
     "output_type": "stream",
     "text": [
      "8 10\n"
     ]
    }
   ],
   "source": [
    "#wap to count the number of vowels and constant\n",
    "s= \"thecatiseatingmice\"\n",
    "v,c=0,0\n",
    "for i in s:\n",
    "    if i=='a' or i=='e' or i=='i' or i=='o' or i=='u':\n",
    "        v=v+1\n",
    "    elif i!=\" \":\n",
    "        c=c+1\n",
    "print(v,c)\n",
    "        "
   ]
  },
  {
   "cell_type": "code",
   "execution_count": 3,
   "id": "fcc68753",
   "metadata": {},
   "outputs": [
    {
     "name": "stdout",
     "output_type": "stream",
     "text": [
      "please enter a number7\n",
      "2 is factors of 7\n",
      "Prime number: \n"
     ]
    }
   ],
   "source": [
    "# wap to find the number is prime or composite\n",
    "n=int(input(\"please enter a number\"))\n",
    "c=0\n",
    "for i in range(1,n+1):\n",
    "    if n%i==0:\n",
    "        c=c+1\n",
    "print(c,  \"is factors of\",n)  \n",
    "\n",
    "if c>2:\n",
    "    print(n, \"this is composite\")\n",
    "else:\n",
    "    print(\"Prime number: \")"
   ]
  },
  {
   "cell_type": "code",
   "execution_count": null,
   "id": "8fa54247",
   "metadata": {},
   "outputs": [],
   "source": []
  }
 ],
 "metadata": {
  "kernelspec": {
   "display_name": "Python 3 (ipykernel)",
   "language": "python",
   "name": "python3"
  },
  "language_info": {
   "codemirror_mode": {
    "name": "ipython",
    "version": 3
   },
   "file_extension": ".py",
   "mimetype": "text/x-python",
   "name": "python",
   "nbconvert_exporter": "python",
   "pygments_lexer": "ipython3",
   "version": "3.9.7"
  }
 },
 "nbformat": 4,
 "nbformat_minor": 5
}
