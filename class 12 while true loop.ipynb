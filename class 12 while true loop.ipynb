{
 "cells": [
  {
   "cell_type": "code",
   "execution_count": 15,
   "id": "c9b8fa67",
   "metadata": {},
   "outputs": [
    {
     "name": "stdout",
     "output_type": "stream",
     "text": [
      "enter a usernameaii\n",
      "entr the password900\n",
      "enter again\n",
      "enter a username899\n",
      "entr the password89\n",
      "enter again\n",
      "enter a username39\n",
      "entr the passwordjfk\n",
      "enter again\n",
      "too many times try\n"
     ]
    }
   ],
   "source": [
    "\n",
    "#The \"while true\" loop in python runs without any conditions until the break statement executes inside the loop\n",
    "\n",
    "\n",
    "# while true \n",
    "\n",
    "'''wap to take input from username and password and if user try more than 3 times to enter ,then loop will break \n",
    "and print you have try more than 3 times'''\n",
    "\n",
    "c=0\n",
    "while True:\n",
    "    username=input('enter a username')\n",
    "    password=input('entr the password')\n",
    "    \n",
    "    if username=='arif' and password=='arif':\n",
    "        print('welcome')\n",
    "        break\n",
    "    \n",
    "    else:\n",
    "        c=c+1\n",
    "        print('enter again')\n",
    "        if c==3:\n",
    "            print('too many times try')\n",
    "            break\n",
    "        "
   ]
  },
  {
   "cell_type": "code",
   "execution_count": 18,
   "id": "8808748b",
   "metadata": {},
   "outputs": [
    {
     "name": "stdout",
     "output_type": "stream",
     "text": [
      "3\n"
     ]
    }
   ],
   "source": [
    "a=2\n",
    "b=3\n",
    "if a>b:\n",
    "    print('right')\n",
    "else:\n",
    "    a=3\n",
    "    print(a)"
   ]
  },
  {
   "cell_type": "code",
   "execution_count": 11,
   "id": "763f7286",
   "metadata": {},
   "outputs": [
    {
     "ename": "IndentationError",
     "evalue": "unexpected indent (Temp/ipykernel_27040/1075733600.py, line 6)",
     "output_type": "error",
     "traceback": [
      "\u001b[1;36m  File \u001b[1;32m\"C:\\Users\\91790\\AppData\\Local\\Temp/ipykernel_27040/1075733600.py\"\u001b[1;36m, line \u001b[1;32m6\u001b[0m\n\u001b[1;33m    if n%3==0 or n%2==0:\u001b[0m\n\u001b[1;37m    ^\u001b[0m\n\u001b[1;31mIndentationError\u001b[0m\u001b[1;31m:\u001b[0m unexpected indent\n"
     ]
    }
   ],
   "source": [
    "'''#wap to print the number if it is ending with 5 or 0 if it is not divided by 3 and check if the result id divisible by 2\n",
    "if yes break loop if no continue'''\n",
    "\n",
    "while True:\n",
    "    n=int(input('entr the number'))\n",
    "        if n%3==0 or n%2==0:\n",
    "            break\n",
    "else:\n",
    "    print('entr again')\n"
   ]
  },
  {
   "cell_type": "code",
   "execution_count": 13,
   "id": "31e324b2",
   "metadata": {},
   "outputs": [
    {
     "data": {
      "text/plain": [
       "'n=10\\ns=0\\n\\nwhile True :\\n    s=s+n\\n    n=n-1\\n    if n=='"
      ]
     },
     "execution_count": 13,
     "metadata": {},
     "output_type": "execute_result"
    }
   ],
   "source": [
    "# While True to find the sum of first N numbers\n",
    "\n",
    "'''n=10\n",
    "s=0\n",
    "\n",
    "while True :\n",
    "    s=s+n\n",
    "    n=n-1\n",
    "    if n=='''"
   ]
  },
  {
   "cell_type": "code",
   "execution_count": 10,
   "id": "b3dc0c3b",
   "metadata": {},
   "outputs": [],
   "source": [
    "'''i=0\n",
    "while True:\n",
    "    i<=10\n",
    "    i+=1\n",
    "    break\n",
    "    \n",
    "else:\n",
    "    print('hy')'''"
   ]
  },
  {
   "cell_type": "code",
   "execution_count": 5,
   "id": "164766c0",
   "metadata": {},
   "outputs": [
    {
     "name": "stdout",
     "output_type": "stream",
     "text": [
      "guess the number 1 to 7:6\n",
      "guess number is incorrect\n"
     ]
    }
   ],
   "source": [
    "guess_number='0'\n",
    "secret_number='7'\n",
    "\n",
    "if True:\n",
    "    guess_number=input('guess the number 1 to 7:')\n",
    "    if guess_number==secret_number:\n",
    "        print('yes guess number is correct')\n",
    "        \n",
    "    else:\n",
    "        print('guess number is incorrect')"
   ]
  },
  {
   "cell_type": "code",
   "execution_count": 8,
   "id": "d189570e",
   "metadata": {},
   "outputs": [
    {
     "name": "stdout",
     "output_type": "stream",
     "text": [
      "guess the number 1 to 7:9\n",
      "guess number is incorrect\n",
      "guess the number 1 to 7:7\n",
      "yes guess number is correct\n"
     ]
    }
   ],
   "source": [
    "guess_number='0'\n",
    "secret_number='7'\n",
    "\n",
    "while True:\n",
    "    guess_number=input('guess the number 1 to 7:')\n",
    "    if guess_number==secret_number:\n",
    "        print('yes guess number is correct')\n",
    "        break\n",
    "    else:\n",
    "        print('guess number is incorrect')"
   ]
  },
  {
   "cell_type": "code",
   "execution_count": null,
   "id": "e6e31d94",
   "metadata": {},
   "outputs": [],
   "source": []
  }
 ],
 "metadata": {
  "kernelspec": {
   "display_name": "Python 3 (ipykernel)",
   "language": "python",
   "name": "python3"
  },
  "language_info": {
   "codemirror_mode": {
    "name": "ipython",
    "version": 3
   },
   "file_extension": ".py",
   "mimetype": "text/x-python",
   "name": "python",
   "nbconvert_exporter": "python",
   "pygments_lexer": "ipython3",
   "version": "3.9.7"
  }
 },
 "nbformat": 4,
 "nbformat_minor": 5
}
