{
 "cells": [
  {
   "cell_type": "code",
   "execution_count": 8,
   "id": "9e18d6d6",
   "metadata": {},
   "outputs": [
    {
     "ename": "TypeError",
     "evalue": "'str' object does not support item assignment",
     "output_type": "error",
     "traceback": [
      "\u001b[1;31m---------------------------------------------------------------------------\u001b[0m",
      "\u001b[1;31mTypeError\u001b[0m                                 Traceback (most recent call last)",
      "\u001b[1;32m~\\AppData\\Local\\Temp/ipykernel_11792/2797350762.py\u001b[0m in \u001b[0;36m<module>\u001b[1;34m\u001b[0m\n\u001b[0;32m      1\u001b[0m \u001b[0ms\u001b[0m\u001b[1;33m=\u001b[0m\u001b[1;34m\"madrid\"\u001b[0m\u001b[1;33m\u001b[0m\u001b[1;33m\u001b[0m\u001b[0m\n\u001b[1;32m----> 2\u001b[1;33m \u001b[0ms\u001b[0m\u001b[1;33m[\u001b[0m\u001b[1;36m0\u001b[0m\u001b[1;33m]\u001b[0m\u001b[1;33m=\u001b[0m\u001b[1;34m\"z\"\u001b[0m\u001b[1;33m\u001b[0m\u001b[1;33m\u001b[0m\u001b[0m\n\u001b[0m\u001b[0;32m      3\u001b[0m \u001b[0mprint\u001b[0m\u001b[1;33m(\u001b[0m\u001b[0ms\u001b[0m\u001b[1;33m)\u001b[0m\u001b[1;33m\u001b[0m\u001b[1;33m\u001b[0m\u001b[0m\n",
      "\u001b[1;31mTypeError\u001b[0m: 'str' object does not support item assignment"
     ]
    }
   ],
   "source": [
    "#we cannot assing a value direct in string index !!!!\n",
    "s=\"madrid\"\n",
    "s[0]=\"z\"\n",
    "print(s)\n"
   ]
  },
  {
   "cell_type": "code",
   "execution_count": 3,
   "id": "39dffb8c",
   "metadata": {},
   "outputs": [
    {
     "name": "stdout",
     "output_type": "stream",
     "text": [
      "madridsoftware\n"
     ]
    }
   ],
   "source": [
    "#concatination -joining to things \n",
    "\n",
    "s=\"madrid\"\n",
    "s=\"madrid\"+\"software\"\n",
    "print(s)"
   ]
  },
  {
   "cell_type": "code",
   "execution_count": 10,
   "id": "92c7c7aa",
   "metadata": {},
   "outputs": [
    {
     "name": "stdout",
     "output_type": "stream",
     "text": [
      "a\n",
      "m\n"
     ]
    }
   ],
   "source": [
    "#indexing and slicing\n",
    "\n",
    "s=\"madrid\"\n",
    "print(s[1])\n",
    "print(s[-6])"
   ]
  },
  {
   "cell_type": "code",
   "execution_count": 12,
   "id": "60c6406c",
   "metadata": {},
   "outputs": [
    {
     "data": {
      "text/plain": [
       "'rid'"
      ]
     },
     "execution_count": 12,
     "metadata": {},
     "output_type": "execute_result"
    }
   ],
   "source": [
    "s=\"madrid\"\n",
    "s[3:7]"
   ]
  },
  {
   "cell_type": "code",
   "execution_count": 13,
   "id": "07a6d51d",
   "metadata": {},
   "outputs": [
    {
     "data": {
      "text/plain": [
       "'am'"
      ]
     },
     "execution_count": 13,
     "metadata": {},
     "output_type": "execute_result"
    }
   ],
   "source": [
    "s=\"aman\"\n",
    "s[-4:-2]"
   ]
  },
  {
   "cell_type": "code",
   "execution_count": 15,
   "id": "dbc7dab7",
   "metadata": {},
   "outputs": [
    {
     "data": {
      "text/plain": [
       "'man'"
      ]
     },
     "execution_count": 15,
     "metadata": {},
     "output_type": "execute_result"
    }
   ],
   "source": [
    "s=\"aman\"\n",
    "s[-3:]"
   ]
  },
  {
   "cell_type": "code",
   "execution_count": 17,
   "id": "b0384576",
   "metadata": {},
   "outputs": [
    {
     "data": {
      "text/plain": [
       "'ama'"
      ]
     },
     "execution_count": 17,
     "metadata": {},
     "output_type": "execute_result"
    }
   ],
   "source": [
    "s[:-1]"
   ]
  },
  {
   "cell_type": "code",
   "execution_count": 18,
   "id": "de2ec3e5",
   "metadata": {},
   "outputs": [
    {
     "data": {
      "text/plain": [
       "''"
      ]
     },
     "execution_count": 18,
     "metadata": {},
     "output_type": "execute_result"
    }
   ],
   "source": [
    "s[-1:3]"
   ]
  },
  {
   "cell_type": "code",
   "execution_count": 20,
   "id": "5e49b05b",
   "metadata": {},
   "outputs": [
    {
     "data": {
      "text/plain": [
       "'nam'"
      ]
     },
     "execution_count": 20,
     "metadata": {},
     "output_type": "execute_result"
    }
   ],
   "source": [
    "s=\"aman\"\n",
    "s[-1:-4:-1]"
   ]
  },
  {
   "cell_type": "code",
   "execution_count": 21,
   "id": "118f28dd",
   "metadata": {},
   "outputs": [
    {
     "data": {
      "text/plain": [
       "'nama'"
      ]
     },
     "execution_count": 21,
     "metadata": {},
     "output_type": "execute_result"
    }
   ],
   "source": [
    "s[-1:-5:-1]"
   ]
  },
  {
   "cell_type": "code",
   "execution_count": 22,
   "id": "9d862173",
   "metadata": {},
   "outputs": [
    {
     "data": {
      "text/plain": [
       "'nama'"
      ]
     },
     "execution_count": 22,
     "metadata": {},
     "output_type": "execute_result"
    }
   ],
   "source": [
    "s[::-1]"
   ]
  },
  {
   "cell_type": "code",
   "execution_count": 33,
   "id": "ad73d627",
   "metadata": {},
   "outputs": [],
   "source": [
    "s=\"aman12345singh!#&%&*abcdef\"\n"
   ]
  },
  {
   "cell_type": "code",
   "execution_count": 34,
   "id": "cfb481d8",
   "metadata": {},
   "outputs": [],
   "source": [
    "a=s[4:9]"
   ]
  },
  {
   "cell_type": "code",
   "execution_count": 35,
   "id": "fa8bd7b6",
   "metadata": {},
   "outputs": [
    {
     "name": "stdout",
     "output_type": "stream",
     "text": [
      "12345\n"
     ]
    }
   ],
   "source": [
    "print(a)"
   ]
  },
  {
   "cell_type": "code",
   "execution_count": 36,
   "id": "84da6adb",
   "metadata": {},
   "outputs": [
    {
     "data": {
      "text/plain": [
       "'54321'"
      ]
     },
     "execution_count": 36,
     "metadata": {},
     "output_type": "execute_result"
    }
   ],
   "source": [
    "a[::-1]"
   ]
  },
  {
   "cell_type": "code",
   "execution_count": 56,
   "id": "e1ebc6c6",
   "metadata": {},
   "outputs": [
    {
     "name": "stdout",
     "output_type": "stream",
     "text": [
      "enter namearif nitin\n",
      "arif not\n",
      "nitin pallindrome\n"
     ]
    }
   ],
   "source": [
    "# wap to find whether the given string is pallindrome or not\n",
    "\n",
    "n=input(\"enter name\").split()\n",
    "for i in n:\n",
    "    \n",
    "    if i==i[::-1]:\n",
    "        print(i,'pallindrome')\n",
    "    else:\n",
    "        print(i,'not')"
   ]
  },
  {
   "cell_type": "code",
   "execution_count": 47,
   "id": "88c53951",
   "metadata": {},
   "outputs": [
    {
     "data": {
      "text/plain": [
       "'arif'"
      ]
     },
     "execution_count": 47,
     "metadata": {},
     "output_type": "execute_result"
    }
   ],
   "source": [
    "a=\"arif\"\n",
    "a[0:4]\n",
    "a[-4:]"
   ]
  },
  {
   "cell_type": "code",
   "execution_count": 58,
   "id": "345e4d64",
   "metadata": {},
   "outputs": [
    {
     "data": {
      "text/plain": [
       "['__add__',\n",
       " '__class__',\n",
       " '__contains__',\n",
       " '__delattr__',\n",
       " '__dir__',\n",
       " '__doc__',\n",
       " '__eq__',\n",
       " '__format__',\n",
       " '__ge__',\n",
       " '__getattribute__',\n",
       " '__getitem__',\n",
       " '__getnewargs__',\n",
       " '__gt__',\n",
       " '__hash__',\n",
       " '__init__',\n",
       " '__init_subclass__',\n",
       " '__iter__',\n",
       " '__le__',\n",
       " '__len__',\n",
       " '__lt__',\n",
       " '__mod__',\n",
       " '__mul__',\n",
       " '__ne__',\n",
       " '__new__',\n",
       " '__reduce__',\n",
       " '__reduce_ex__',\n",
       " '__repr__',\n",
       " '__rmod__',\n",
       " '__rmul__',\n",
       " '__setattr__',\n",
       " '__sizeof__',\n",
       " '__str__',\n",
       " '__subclasshook__',\n",
       " 'capitalize',\n",
       " 'casefold',\n",
       " 'center',\n",
       " 'count',\n",
       " 'encode',\n",
       " 'endswith',\n",
       " 'expandtabs',\n",
       " 'find',\n",
       " 'format',\n",
       " 'format_map',\n",
       " 'index',\n",
       " 'isalnum',\n",
       " 'isalpha',\n",
       " 'isascii',\n",
       " 'isdecimal',\n",
       " 'isdigit',\n",
       " 'isidentifier',\n",
       " 'islower',\n",
       " 'isnumeric',\n",
       " 'isprintable',\n",
       " 'isspace',\n",
       " 'istitle',\n",
       " 'isupper',\n",
       " 'join',\n",
       " 'ljust',\n",
       " 'lower',\n",
       " 'lstrip',\n",
       " 'maketrans',\n",
       " 'partition',\n",
       " 'removeprefix',\n",
       " 'removesuffix',\n",
       " 'replace',\n",
       " 'rfind',\n",
       " 'rindex',\n",
       " 'rjust',\n",
       " 'rpartition',\n",
       " 'rsplit',\n",
       " 'rstrip',\n",
       " 'split',\n",
       " 'splitlines',\n",
       " 'startswith',\n",
       " 'strip',\n",
       " 'swapcase',\n",
       " 'title',\n",
       " 'translate',\n",
       " 'upper',\n",
       " 'zfill']"
      ]
     },
     "execution_count": 58,
     "metadata": {},
     "output_type": "execute_result"
    }
   ],
   "source": [
    "dir(str)"
   ]
  },
  {
   "cell_type": "code",
   "execution_count": 1,
   "id": "f50a57e6",
   "metadata": {},
   "outputs": [
    {
     "data": {
      "text/plain": [
       "['the cat ', 's s', 'tt', 'ng']"
      ]
     },
     "execution_count": 1,
     "metadata": {},
     "output_type": "execute_result"
    }
   ],
   "source": [
    "s='the cat is sitting'\n",
    "s.split(sep='i')"
   ]
  },
  {
   "cell_type": "code",
   "execution_count": 4,
   "id": "7c51fe40",
   "metadata": {},
   "outputs": [
    {
     "data": {
      "text/plain": [
       "['the cat i', ' ', 'itting']"
      ]
     },
     "execution_count": 4,
     "metadata": {},
     "output_type": "execute_result"
    }
   ],
   "source": [
    "s='the cat is sitting'\n",
    "\n",
    "s.split('s')"
   ]
  },
  {
   "cell_type": "code",
   "execution_count": 6,
   "id": "12e544d7",
   "metadata": {},
   "outputs": [
    {
     "data": {
      "text/plain": [
       "('the cat ', 'i', 's sitting')"
      ]
     },
     "execution_count": 6,
     "metadata": {},
     "output_type": "execute_result"
    }
   ],
   "source": [
    "#partition\n",
    "s='the cat is sitting'\n",
    "s.partition('i')"
   ]
  },
  {
   "cell_type": "code",
   "execution_count": 7,
   "id": "d002729a",
   "metadata": {},
   "outputs": [
    {
     "data": {
      "text/plain": [
       "'hello'"
      ]
     },
     "execution_count": 7,
     "metadata": {},
     "output_type": "execute_result"
    }
   ],
   "source": [
    "s=\"HELLO\"\n",
    "s.lower()"
   ]
  },
  {
   "cell_type": "code",
   "execution_count": 9,
   "id": "1fde2bc8",
   "metadata": {},
   "outputs": [
    {
     "data": {
      "text/plain": [
       "'HELLO'"
      ]
     },
     "execution_count": 9,
     "metadata": {},
     "output_type": "execute_result"
    }
   ],
   "source": [
    "s.upper()"
   ]
  },
  {
   "cell_type": "code",
   "execution_count": 12,
   "id": "a8445455",
   "metadata": {},
   "outputs": [
    {
     "data": {
      "text/plain": [
       "'Hello Everyone How Are You'"
      ]
     },
     "execution_count": 12,
     "metadata": {},
     "output_type": "execute_result"
    }
   ],
   "source": [
    "s=\"hello everyone how are you\"\n",
    "s.title()"
   ]
  },
  {
   "cell_type": "code",
   "execution_count": 11,
   "id": "d8969612",
   "metadata": {},
   "outputs": [
    {
     "data": {
      "text/plain": [
       "'My name is arif'"
      ]
     },
     "execution_count": 11,
     "metadata": {},
     "output_type": "execute_result"
    }
   ],
   "source": [
    "s=\"my name is arif\"\n",
    "s.capitalize()"
   ]
  },
  {
   "cell_type": "code",
   "execution_count": 13,
   "id": "4b7dccb4",
   "metadata": {},
   "outputs": [
    {
     "data": {
      "text/plain": [
       "True"
      ]
     },
     "execution_count": 13,
     "metadata": {},
     "output_type": "execute_result"
    }
   ],
   "source": [
    "s='hello'\n",
    "s.islower()"
   ]
  },
  {
   "cell_type": "code",
   "execution_count": 14,
   "id": "66f7369d",
   "metadata": {},
   "outputs": [
    {
     "data": {
      "text/plain": [
       "False"
      ]
     },
     "execution_count": 14,
     "metadata": {},
     "output_type": "execute_result"
    }
   ],
   "source": [
    "s.isupper()"
   ]
  },
  {
   "cell_type": "code",
   "execution_count": 16,
   "id": "59c28c80",
   "metadata": {},
   "outputs": [
    {
     "data": {
      "text/plain": [
       "6"
      ]
     },
     "execution_count": 16,
     "metadata": {},
     "output_type": "execute_result"
    }
   ],
   "source": [
    "s=\"the cat is sitting on the table and cat is again sleeping\"\n",
    "s.count('i')"
   ]
  },
  {
   "cell_type": "code",
   "execution_count": 17,
   "id": "978a02da",
   "metadata": {},
   "outputs": [
    {
     "data": {
      "text/plain": [
       "2"
      ]
     },
     "execution_count": 17,
     "metadata": {},
     "output_type": "execute_result"
    }
   ],
   "source": [
    "s.count('cat')"
   ]
  },
  {
   "cell_type": "code",
   "execution_count": 18,
   "id": "308cf32f",
   "metadata": {},
   "outputs": [
    {
     "data": {
      "text/plain": [
       "4"
      ]
     },
     "execution_count": 18,
     "metadata": {},
     "output_type": "execute_result"
    }
   ],
   "source": [
    "# it returns first c value\n",
    "s=\"the cat is sitting on the table and cat is again sleeping\"\n",
    "\n",
    "s.find('c')"
   ]
  },
  {
   "cell_type": "code",
   "execution_count": 19,
   "id": "cc81c514",
   "metadata": {},
   "outputs": [
    {
     "data": {
      "text/plain": [
       "36"
      ]
     },
     "execution_count": 19,
     "metadata": {},
     "output_type": "execute_result"
    }
   ],
   "source": [
    "# it returns last c value\n",
    "s.rfind('c')"
   ]
  },
  {
   "cell_type": "code",
   "execution_count": 20,
   "id": "5077bae6",
   "metadata": {},
   "outputs": [
    {
     "data": {
      "text/plain": [
       "8"
      ]
     },
     "execution_count": 20,
     "metadata": {},
     "output_type": "execute_result"
    }
   ],
   "source": [
    "s=\"the cat is sitting on the table and cat is again sleeping\"\n",
    "\n",
    "s.find('is')"
   ]
  },
  {
   "cell_type": "code",
   "execution_count": 21,
   "id": "b281d832",
   "metadata": {},
   "outputs": [
    {
     "data": {
      "text/plain": [
       "40"
      ]
     },
     "execution_count": 21,
     "metadata": {},
     "output_type": "execute_result"
    }
   ],
   "source": [
    "s.rfind('is')"
   ]
  },
  {
   "cell_type": "code",
   "execution_count": 22,
   "id": "cb52b8d9",
   "metadata": {},
   "outputs": [
    {
     "data": {
      "text/plain": [
       "4"
      ]
     },
     "execution_count": 22,
     "metadata": {},
     "output_type": "execute_result"
    }
   ],
   "source": [
    "s.index('cat')"
   ]
  },
  {
   "cell_type": "code",
   "execution_count": 24,
   "id": "b87c8aa9",
   "metadata": {},
   "outputs": [
    {
     "data": {
      "text/plain": [
       "36"
      ]
     },
     "execution_count": 24,
     "metadata": {},
     "output_type": "execute_result"
    }
   ],
   "source": [
    "s.rindex('cat')"
   ]
  },
  {
   "cell_type": "code",
   "execution_count": 25,
   "id": "9807ae4e",
   "metadata": {},
   "outputs": [
    {
     "data": {
      "text/plain": [
       "'a@b@c'"
      ]
     },
     "execution_count": 25,
     "metadata": {},
     "output_type": "execute_result"
    }
   ],
   "source": [
    "\"@\".join([\"a\",\"b\",\"c\"])"
   ]
  },
  {
   "cell_type": "code",
   "execution_count": 29,
   "id": "8bd5d581",
   "metadata": {},
   "outputs": [
    {
     "data": {
      "text/plain": [
       "'h@e@l@l@o@ @w@o@r@l@d'"
      ]
     },
     "execution_count": 29,
     "metadata": {},
     "output_type": "execute_result"
    }
   ],
   "source": [
    "s=\"hello world\"\n",
    "'@'.join(s)"
   ]
  },
  {
   "cell_type": "code",
   "execution_count": 30,
   "id": "4ad59bf7",
   "metadata": {},
   "outputs": [
    {
     "data": {
      "text/plain": [
       "True"
      ]
     },
     "execution_count": 30,
     "metadata": {},
     "output_type": "execute_result"
    }
   ],
   "source": [
    "s.endswith(\"d\")"
   ]
  },
  {
   "cell_type": "code",
   "execution_count": 33,
   "id": "d3d822ae",
   "metadata": {},
   "outputs": [
    {
     "data": {
      "text/plain": [
       "True"
      ]
     },
     "execution_count": 33,
     "metadata": {},
     "output_type": "execute_result"
    }
   ],
   "source": [
    "s.startswith(\"s\")\n",
    "s.startswith(\"h\")"
   ]
  },
  {
   "cell_type": "code",
   "execution_count": 34,
   "id": "e520e796",
   "metadata": {},
   "outputs": [
    {
     "data": {
      "text/plain": [
       "'@@hello world@@'"
      ]
     },
     "execution_count": 34,
     "metadata": {},
     "output_type": "execute_result"
    }
   ],
   "source": [
    "s=\"hello world\"\n",
    "s.center(15,\"@\")"
   ]
  },
  {
   "cell_type": "code",
   "execution_count": 35,
   "id": "f1d98d71",
   "metadata": {},
   "outputs": [
    {
     "data": {
      "text/plain": [
       "'the'"
      ]
     },
     "execution_count": 35,
     "metadata": {},
     "output_type": "execute_result"
    }
   ],
   "source": [
    "s=\" the \"\n",
    "s.strip()"
   ]
  },
  {
   "cell_type": "code",
   "execution_count": 36,
   "id": "2d8e12e0",
   "metadata": {},
   "outputs": [
    {
     "data": {
      "text/plain": [
       "'the '"
      ]
     },
     "execution_count": 36,
     "metadata": {},
     "output_type": "execute_result"
    }
   ],
   "source": [
    "s.lstrip()"
   ]
  },
  {
   "cell_type": "code",
   "execution_count": 37,
   "id": "dc2a0328",
   "metadata": {},
   "outputs": [
    {
     "data": {
      "text/plain": [
       "' the'"
      ]
     },
     "execution_count": 37,
     "metadata": {},
     "output_type": "execute_result"
    }
   ],
   "source": [
    "s.rstrip()"
   ]
  },
  {
   "cell_type": "code",
   "execution_count": 38,
   "id": "db95f07d",
   "metadata": {},
   "outputs": [
    {
     "data": {
      "text/plain": [
       "True"
      ]
     },
     "execution_count": 38,
     "metadata": {},
     "output_type": "execute_result"
    }
   ],
   "source": [
    "s=\"aeeuuuuureiei8889i\"\n",
    "s.isalnum()  # shows both char and number plus only numbers or only char"
   ]
  },
  {
   "cell_type": "code",
   "execution_count": 39,
   "id": "43a70daa",
   "metadata": {},
   "outputs": [
    {
     "data": {
      "text/plain": [
       "False"
      ]
     },
     "execution_count": 39,
     "metadata": {},
     "output_type": "execute_result"
    }
   ],
   "source": [
    "s=\"aeeuuuuureiei@8889i\"\n",
    "s.isalnum()"
   ]
  },
  {
   "cell_type": "code",
   "execution_count": 41,
   "id": "f802a5bc",
   "metadata": {},
   "outputs": [
    {
     "data": {
      "text/plain": [
       "True"
      ]
     },
     "execution_count": 41,
     "metadata": {},
     "output_type": "execute_result"
    }
   ],
   "source": [
    "s=\"Aman Is Good Boy\"\n",
    "s.istitle()"
   ]
  },
  {
   "cell_type": "code",
   "execution_count": 42,
   "id": "59440373",
   "metadata": {},
   "outputs": [
    {
     "data": {
      "text/plain": [
       "False"
      ]
     },
     "execution_count": 42,
     "metadata": {},
     "output_type": "execute_result"
    }
   ],
   "source": [
    "s.isspace()"
   ]
  },
  {
   "cell_type": "code",
   "execution_count": 43,
   "id": "7e406412",
   "metadata": {},
   "outputs": [
    {
     "data": {
      "text/plain": [
       "True"
      ]
     },
     "execution_count": 43,
     "metadata": {},
     "output_type": "execute_result"
    }
   ],
   "source": [
    "s=\" \"\n",
    "s.isspace()"
   ]
  },
  {
   "cell_type": "code",
   "execution_count": 45,
   "id": "fa300349",
   "metadata": {},
   "outputs": [
    {
     "data": {
      "text/plain": [
       "True"
      ]
     },
     "execution_count": 45,
     "metadata": {},
     "output_type": "execute_result"
    }
   ],
   "source": [
    "s=\"677\"\n",
    "s.isdigit()"
   ]
  },
  {
   "cell_type": "code",
   "execution_count": 47,
   "id": "c93bb732",
   "metadata": {},
   "outputs": [
    {
     "name": "stdout",
     "output_type": "stream",
     "text": [
      "the 123 is sleeping on the 56.9\n"
     ]
    }
   ],
   "source": [
    "#fstring\n",
    "\n",
    "dog=123\n",
    "floor=56.9\n",
    "print(f\"the {dog} is sleeping on the {floor}\")"
   ]
  },
  {
   "cell_type": "code",
   "execution_count": 48,
   "id": "a2f8168a",
   "metadata": {},
   "outputs": [
    {
     "name": "stdout",
     "output_type": "stream",
     "text": [
      "the 123 is sleeping on the 56.9\n"
     ]
    }
   ],
   "source": [
    "#format string\n",
    "print(\"the {} is sleeping on the {}\".format(dog,floor))"
   ]
  },
  {
   "cell_type": "code",
   "execution_count": 49,
   "id": "f688e6a5",
   "metadata": {},
   "outputs": [
    {
     "data": {
      "text/plain": [
       "'hello\\\\world'"
      ]
     },
     "execution_count": 49,
     "metadata": {},
     "output_type": "execute_result"
    }
   ],
   "source": [
    "s=\"hello\\world\"\n",
    "s.expandtabs()"
   ]
  },
  {
   "cell_type": "code",
   "execution_count": 52,
   "id": "76e6a36a",
   "metadata": {},
   "outputs": [
    {
     "name": "stdout",
     "output_type": "stream",
     "text": [
      "AMAN\n",
      "SINgh\n"
     ]
    }
   ],
   "source": [
    "s1=\"aman\"\n",
    "s2=\"sinGH\"\n",
    "print(s1.swapcase())\n",
    "print(s2.swapcase())"
   ]
  },
  {
   "cell_type": "code",
   "execution_count": 4,
   "id": "2f03d33f",
   "metadata": {},
   "outputs": [
    {
     "name": "stdout",
     "output_type": "stream",
     "text": [
      "entr a password9877hjk3356DD\n",
      "3 2 8 0\n",
      "try again!!!\n"
     ]
    }
   ],
   "source": [
    "'''wap to enter a password and check if it is a valid password or not \n",
    "1.length of password should be 10 or more\n",
    "2.atleast 1 uppercase\n",
    "3.atleast 1 lowecase\n",
    "3.atleast 1 digit\n",
    "4.atleast 1 special character\n",
    "'''\n",
    "\n",
    "p=input('entr a password')\n",
    "l,u,d,sp= 0,0,0,0\n",
    "for i in p:\n",
    "    if i.islower():\n",
    "        l=l+1\n",
    "    elif i.isupper():\n",
    "        u=u+1\n",
    "    elif i.isdigit():\n",
    "        d=d+1\n",
    "    else:\n",
    "        sp=sp+1\n",
    "print(l,u,d,sp)\n",
    "if l>0 and u>0 and d>0 and sp>0 and len(p)>=10:\n",
    "    print(\"password is valid\")\n",
    "else: \n",
    "    print(\"try again!!!\")\n",
    "    \n"
   ]
  },
  {
   "cell_type": "code",
   "execution_count": 57,
   "id": "eae03111",
   "metadata": {},
   "outputs": [
    {
     "data": {
      "text/plain": [
       "4"
      ]
     },
     "execution_count": 57,
     "metadata": {},
     "output_type": "execute_result"
    }
   ],
   "source": [
    "p=\"arif\"\n",
    "len(p)"
   ]
  },
  {
   "cell_type": "code",
   "execution_count": null,
   "id": "896fb030",
   "metadata": {},
   "outputs": [],
   "source": []
  }
 ],
 "metadata": {
  "kernelspec": {
   "display_name": "Python 3 (ipykernel)",
   "language": "python",
   "name": "python3"
  },
  "language_info": {
   "codemirror_mode": {
    "name": "ipython",
    "version": 3
   },
   "file_extension": ".py",
   "mimetype": "text/x-python",
   "name": "python",
   "nbconvert_exporter": "python",
   "pygments_lexer": "ipython3",
   "version": "3.9.7"
  }
 },
 "nbformat": 4,
 "nbformat_minor": 5
}
